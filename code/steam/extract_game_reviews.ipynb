{
 "cells": [
  {
   "cell_type": "markdown",
   "metadata": {},
   "source": [
    "# Extracting user reviews of games on Steam"
   ]
  },
  {
   "cell_type": "code",
   "execution_count": 5,
   "metadata": {},
   "outputs": [],
   "source": [
    "from selenium import webdriver\n",
    "from selenium.webdriver.common.keys import Keys\n",
    "from selenium.webdriver.common.by import By\n",
    "from selenium.webdriver.support.wait import WebDriverWait\n",
    "\n",
    "import pandas as pd\n",
    "import re\n",
    "import string\n",
    "import nltk"
   ]
  },
  {
   "cell_type": "code",
   "execution_count": 6,
   "metadata": {},
   "outputs": [
    {
     "name": "stderr",
     "output_type": "stream",
     "text": [
      "[nltk_data] Downloading package stopwords to /home/sanjiv/nltk_data...\n",
      "[nltk_data]   Package stopwords is already up-to-date!\n",
      "[nltk_data] Downloading package wordnet to /home/sanjiv/nltk_data...\n",
      "[nltk_data]   Package wordnet is already up-to-date!\n"
     ]
    },
    {
     "data": {
      "text/plain": [
       "True"
      ]
     },
     "execution_count": 6,
     "metadata": {},
     "output_type": "execute_result"
    }
   ],
   "source": [
    "nltk.download(['stopwords', 'wordnet'])"
   ]
  },
  {
   "cell_type": "markdown",
   "metadata": {},
   "source": [
    "## Web scraping"
   ]
  },
  {
   "cell_type": "code",
   "execution_count": 7,
   "metadata": {},
   "outputs": [],
   "source": [
    "# grabbing 500 reviews from each of the four game products sold on Steam\n",
    "\n",
    "reviews_num = 500\n",
    "game_ids = [292030, 1888930, 1151640, 1174180]"
   ]
  },
  {
   "cell_type": "code",
   "execution_count": 8,
   "metadata": {},
   "outputs": [],
   "source": [
    "# infinite scroll page scraping\n",
    "\n",
    "all_reviews = []\n",
    "# to hide browser\n",
    "# op = webdriver.ChromeOptions()\n",
    "# op.add_argument('headless')\n",
    "# driver = webdriver.Chrome(options=op)\n",
    "driver = webdriver.Chrome()\n",
    "\n",
    "for g in game_ids:\n",
    "\n",
    "  r = driver.get(\"https://steamcommunity.com/app/\" + str(g) + \"/reviews/?p=1&browsefilter=mostrecent&filterLanguage=english\")\n",
    "  page = 1\n",
    "  reviews = []\n",
    "\n",
    "  while len(reviews) < reviews_num:\n",
    "\n",
    "    # wait till scrolling loads the new review contents\n",
    "    WebDriverWait(driver, 10).until(\n",
    "      lambda x: x.find_element(By.CSS_SELECTOR, \"#page\" + str(page) + \" .apphub_Card.modalContentLink.interactable .apphub_CardTextContent\") and x.find_element(By.CSS_SELECTOR, \"#page\" + str(page) + \" .apphub_Card.modalContentLink.interactable .apphub_UserReviewCardContent .title\")\n",
    "    )\n",
    "\n",
    "    elems = driver.find_elements(By.CSS_SELECTOR, \"#page\" + str(page) + \" .apphub_Card.modalContentLink.interactable\")\n",
    "    for ele in elems:\n",
    "      rec_text = ele.find_element(By.CSS_SELECTOR, \".apphub_UserReviewCardContent .title\").text\n",
    "      # grabbing text inside of parent element excluding that of within the child elements\n",
    "      all_review_text = ele.find_element(By.CSS_SELECTOR, \".apphub_CardTextContent\").text\n",
    "      child_text = ele.find_element(By.CSS_SELECTOR, \".apphub_CardTextContent .date_posted\").text\n",
    "      parent_text = all_review_text.replace(child_text, '')\n",
    "      reviews.append({\n",
    "        \"game_id\": g,\n",
    "        \"review\": parent_text,\n",
    "        \"recommendation\": rec_text\n",
    "      })\n",
    "    \n",
    "    body = driver.find_element(By.CSS_SELECTOR, 'body')\n",
    "    body.send_keys(\"scroll down\", Keys.END)\n",
    "    page += 1\n",
    "  \n",
    "  all_reviews.extend(reviews)\n",
    "\n",
    "driver.quit()"
   ]
  },
  {
   "cell_type": "code",
   "execution_count": 9,
   "metadata": {},
   "outputs": [
    {
     "name": "stdout",
     "output_type": "stream",
     "text": [
      "2000\n",
      "[{'game_id': 1888930, 'review': \"\\nI always wanted to play this game, and longed for the day it came out on PC... I had the old ps3 but was never allowed the game when I were a wee lad. When the game came out, I waited patiently for the bugs to be resolved before purchasing. I am so glad I did. The game has played almost flawlessly. There's been the odd stutter in extra demanding parts of the game, and it is a demanding game, no doubts there. BUT holy moley is it worth it! Amazing story, great UI and game play, fantastic characters, graphics galore.\\n\\nNow patiently awaiting TLOU Part 2!😁\", 'recommendation': 'Recommended'}, {'game_id': 1888930, 'review': \"\\nIt's barely what I'd call playable now. It's plagued with shader compilation stutters even on a 20GB 7900xt. Looking down a hallway at a section of the game that's entirely indoors shouldn't use 14GB of VRAM. No excuses. The game looks gorgeous when it's not stuttering all over the place. Also had a weird sound bug that would cause distorted audio since my windows audio was set to 44.1 instead of 48Khz. Garbage port turned barely serviceable, but with a game of this reputation and caliber it should have received the best development possible. Just play it on ps5 or the ps4 remastered version, or wait another 6 months and have a high tier graphics card to barely hit 60 without FSR.\", 'recommendation': 'Not Recommended'}, {'game_id': 1888930, 'review': \"\\nUpdate 8-17-2023: I'm 3/4 through the game and it has hard crashed ten times in my total play through. The most recent being during a boss fight I was half way through. Do not buy this game right now.\\n\\nAs of 8-13-2023, the game is still suffering from crashes and technical issues. I am seven hours into the game and it has hard crashed on me six times so far; three of which have been in the games financial district. It is basically unplayable at this point.\\n\\nThe games implementation of DLSS has a weird blurring issue whenever you are moving your character; the blur is not present if you are standing still. It can look like the game its running at 720p (even on Quality DLSS at 3440-1440p) when you are walking, which is quite distracting. There are also certain rooms and environments where the lighting is glitchy, resulting in your character being lit up in a dark room.\\n\\nI am sure they will keep updating, but it is not worth full price after this release. Wait until its $30 or lower, as it is a technically deficient port. Shame as the game itself is a genuine classic and the developers/artists who made it deserve better shepherding of their exceptional work.\\n\\nSettings:\\nUltra all settings\\nDLSS Quality\\n(+100-120 FPS)\\n\\nSpecs:\\ni7-12700k\\nRTX 3080 10Gb\\n32Gb 3200mhz\\n970 Evo\\nAlienware AW3423DWF QD-OLED\", 'recommendation': 'Not Recommended'}, {'game_id': 1151640, 'review': '\\nGood', 'recommendation': 'Recommended'}, {'game_id': 1151640, 'review': '\\nI really wanted to like it...Its just so aggressively mediocre. The concept is interesting but the characters are so boring and the gameplay is not good enough to make up for it.', 'recommendation': 'Not Recommended'}]\n"
     ]
    }
   ],
   "source": [
    "print(len(all_reviews))\n",
    "print(all_reviews[997:1002])"
   ]
  },
  {
   "cell_type": "markdown",
   "metadata": {},
   "source": [
    "## Data cleaning"
   ]
  },
  {
   "cell_type": "code",
   "execution_count": 10,
   "metadata": {},
   "outputs": [
    {
     "data": {
      "text/html": [
       "<div>\n",
       "<style scoped>\n",
       "    .dataframe tbody tr th:only-of-type {\n",
       "        vertical-align: middle;\n",
       "    }\n",
       "\n",
       "    .dataframe tbody tr th {\n",
       "        vertical-align: top;\n",
       "    }\n",
       "\n",
       "    .dataframe thead th {\n",
       "        text-align: right;\n",
       "    }\n",
       "</style>\n",
       "<table border=\"1\" class=\"dataframe\">\n",
       "  <thead>\n",
       "    <tr style=\"text-align: right;\">\n",
       "      <th></th>\n",
       "      <th>game_id</th>\n",
       "      <th>review</th>\n",
       "      <th>recommendation</th>\n",
       "    </tr>\n",
       "  </thead>\n",
       "  <tbody>\n",
       "    <tr>\n",
       "      <th>0</th>\n",
       "      <td>292030</td>\n",
       "      <td>\\nOne of the greatest RPGs to date and a trium...</td>\n",
       "      <td>Recommended</td>\n",
       "    </tr>\n",
       "    <tr>\n",
       "      <th>1</th>\n",
       "      <td>292030</td>\n",
       "      <td>\\nStunning upgraded graphics, best RPG game ever.</td>\n",
       "      <td>Recommended</td>\n",
       "    </tr>\n",
       "    <tr>\n",
       "      <th>2</th>\n",
       "      <td>292030</td>\n",
       "      <td>\\nrowch</td>\n",
       "      <td>Recommended</td>\n",
       "    </tr>\n",
       "    <tr>\n",
       "      <th>3</th>\n",
       "      <td>292030</td>\n",
       "      <td>\\nHere I will leave the cat, friends who pass ...</td>\n",
       "      <td>Recommended</td>\n",
       "    </tr>\n",
       "    <tr>\n",
       "      <th>4</th>\n",
       "      <td>292030</td>\n",
       "      <td>\\nI have been consumed</td>\n",
       "      <td>Recommended</td>\n",
       "    </tr>\n",
       "  </tbody>\n",
       "</table>\n",
       "</div>"
      ],
      "text/plain": [
       "   game_id                                             review recommendation\n",
       "0   292030  \\nOne of the greatest RPGs to date and a trium...    Recommended\n",
       "1   292030  \\nStunning upgraded graphics, best RPG game ever.    Recommended\n",
       "2   292030                                            \\nrowch    Recommended\n",
       "3   292030  \\nHere I will leave the cat, friends who pass ...    Recommended\n",
       "4   292030                             \\nI have been consumed    Recommended"
      ]
     },
     "execution_count": 10,
     "metadata": {},
     "output_type": "execute_result"
    }
   ],
   "source": [
    "df = pd.DataFrame.from_dict(all_reviews)\n",
    "df.head()"
   ]
  },
  {
   "cell_type": "code",
   "execution_count": 11,
   "metadata": {},
   "outputs": [
    {
     "data": {
      "text/html": [
       "<div>\n",
       "<style scoped>\n",
       "    .dataframe tbody tr th:only-of-type {\n",
       "        vertical-align: middle;\n",
       "    }\n",
       "\n",
       "    .dataframe tbody tr th {\n",
       "        vertical-align: top;\n",
       "    }\n",
       "\n",
       "    .dataframe thead th {\n",
       "        text-align: right;\n",
       "    }\n",
       "</style>\n",
       "<table border=\"1\" class=\"dataframe\">\n",
       "  <thead>\n",
       "    <tr style=\"text-align: right;\">\n",
       "      <th></th>\n",
       "      <th>game_id</th>\n",
       "      <th>review</th>\n",
       "      <th>sentiment</th>\n",
       "    </tr>\n",
       "  </thead>\n",
       "  <tbody>\n",
       "    <tr>\n",
       "      <th>0</th>\n",
       "      <td>292030</td>\n",
       "      <td>\\nOne of the greatest RPGs to date and a trium...</td>\n",
       "      <td>1</td>\n",
       "    </tr>\n",
       "    <tr>\n",
       "      <th>1</th>\n",
       "      <td>292030</td>\n",
       "      <td>\\nStunning upgraded graphics, best RPG game ever.</td>\n",
       "      <td>1</td>\n",
       "    </tr>\n",
       "    <tr>\n",
       "      <th>2</th>\n",
       "      <td>292030</td>\n",
       "      <td>\\nrowch</td>\n",
       "      <td>1</td>\n",
       "    </tr>\n",
       "    <tr>\n",
       "      <th>3</th>\n",
       "      <td>292030</td>\n",
       "      <td>\\nHere I will leave the cat, friends who pass ...</td>\n",
       "      <td>1</td>\n",
       "    </tr>\n",
       "    <tr>\n",
       "      <th>4</th>\n",
       "      <td>292030</td>\n",
       "      <td>\\nI have been consumed</td>\n",
       "      <td>1</td>\n",
       "    </tr>\n",
       "  </tbody>\n",
       "</table>\n",
       "</div>"
      ],
      "text/plain": [
       "   game_id                                             review  sentiment\n",
       "0   292030  \\nOne of the greatest RPGs to date and a trium...          1\n",
       "1   292030  \\nStunning upgraded graphics, best RPG game ever.          1\n",
       "2   292030                                            \\nrowch          1\n",
       "3   292030  \\nHere I will leave the cat, friends who pass ...          1\n",
       "4   292030                             \\nI have been consumed          1"
      ]
     },
     "execution_count": 11,
     "metadata": {},
     "output_type": "execute_result"
    }
   ],
   "source": [
    "# convert recommendation column to sentiment\n",
    "\n",
    "df.recommendation = df.recommendation.apply(lambda r: 1 if r == 'Recommended' else 0)\n",
    "df = df.rename(columns={'recommendation': 'sentiment'})\n",
    "df.head()"
   ]
  },
  {
   "cell_type": "code",
   "execution_count": 13,
   "metadata": {},
   "outputs": [
    {
     "name": "stdout",
     "output_type": "stream",
     "text": [
      "<class 'pandas.core.frame.DataFrame'>\n",
      "RangeIndex: 2000 entries, 0 to 1999\n",
      "Data columns (total 3 columns):\n",
      " #   Column     Non-Null Count  Dtype \n",
      "---  ------     --------------  ----- \n",
      " 0   game_id    2000 non-null   int64 \n",
      " 1   review     2000 non-null   object\n",
      " 2   sentiment  2000 non-null   int64 \n",
      "dtypes: int64(2), object(1)\n",
      "memory usage: 47.0+ KB\n"
     ]
    }
   ],
   "source": [
    "df.info()"
   ]
  },
  {
   "cell_type": "code",
   "execution_count": 14,
   "metadata": {},
   "outputs": [],
   "source": [
    "# remove escape sequences, strip leading and trailing whitespaces\n",
    "def escape_n_strip(s):\n",
    "  escapes = '\\b\\n\\r\\t\\\\' \n",
    "  for c in escapes: \n",
    "    s = s.replace(c, ' ')\n",
    "  return s.strip()\n",
    "\n",
    "# shrink large whitespaces into one\n",
    "def shrink_space(s):\n",
    "  return re.sub('\\s+', ' ', s)\n",
    "\n",
    "# find more unwanted non alphanumeric characters\n",
    "def find_impurities(s):\n",
    "  aliens = set()\n",
    "  for c in s:\n",
    "    if not c.isalnum() and c not in string.punctuation:\n",
    "      aliens.add(c)\n",
    "  return aliens\n",
    "\n",
    "# remove words in list 'r' from string 's' \n",
    "def remove_words(s, r):\n",
    "  words = s.split(\" \")\n",
    "  words = list( filter(lambda x: False if x in r else True, words) )\n",
    "  return \" \".join(words)"
   ]
  },
  {
   "cell_type": "code",
   "execution_count": 15,
   "metadata": {},
   "outputs": [],
   "source": [
    "# remove escape characters\n",
    "\n",
    "df[\"review\"] = df[\"review\"].apply(escape_n_strip)"
   ]
  },
  {
   "cell_type": "code",
   "execution_count": 16,
   "metadata": {},
   "outputs": [
    {
     "data": {
      "text/plain": [
       "['／',\n",
       " '⠴',\n",
       " '⠣',\n",
       " '⢴',\n",
       " '⡀',\n",
       " '✡',\n",
       " '♥',\n",
       " '⠖',\n",
       " '⠙',\n",
       " '⢀',\n",
       " '่',\n",
       " '⣙',\n",
       " '⠠',\n",
       " '⢏',\n",
       " '⡋',\n",
       " '⢸',\n",
       " '☑',\n",
       " '⠤',\n",
       " '⡴',\n",
       " '⠦',\n",
       " '🌸',\n",
       " '⣏',\n",
       " '😊',\n",
       " '⡘',\n",
       " '⣯',\n",
       " '⣾',\n",
       " '⣧',\n",
       " '⠳',\n",
       " '⢰',\n",
       " '⡸',\n",
       " '⣮',\n",
       " '⠆',\n",
       " '⣆',\n",
       " '│',\n",
       " 'ื',\n",
       " 'ี',\n",
       " '⡧',\n",
       " '⠓',\n",
       " '⠏',\n",
       " '⢛',\n",
       " '⢤',\n",
       " '⠸',\n",
       " '🐐',\n",
       " '⡟',\n",
       " '👨',\n",
       " '⠻',\n",
       " '👉',\n",
       " '⣠',\n",
       " '⠛',\n",
       " '´',\n",
       " '⡌',\n",
       " '⠶',\n",
       " '🔥',\n",
       " '⠈',\n",
       " '⡛',\n",
       " '⡄',\n",
       " '😁',\n",
       " '⠹',\n",
       " '⢢',\n",
       " '⣷',\n",
       " '⣲',\n",
       " '🍳',\n",
       " '°',\n",
       " '’',\n",
       " '⠃',\n",
       " '⣹',\n",
       " '⢨',\n",
       " '⡐',\n",
       " '⣽',\n",
       " '⠁',\n",
       " '‘',\n",
       " '⣤',\n",
       " '⠟',\n",
       " '้',\n",
       " '❤',\n",
       " '⣛',\n",
       " '⣗',\n",
       " '⢹',\n",
       " '👍',\n",
       " '⣥',\n",
       " '€',\n",
       " '⣍',\n",
       " '⢻',\n",
       " '\\U0001fae1',\n",
       " '⢿',\n",
       " '⠐',\n",
       " '⠯',\n",
       " '⠎',\n",
       " '⢋',\n",
       " '＿',\n",
       " '⠢',\n",
       " '⠄',\n",
       " '⣼',\n",
       " '⡁',\n",
       " '⣻',\n",
       " '⡿',\n",
       " '⣇',\n",
       " '⣫',\n",
       " '—',\n",
       " '⣟',\n",
       " '💋',\n",
       " '⡝',\n",
       " '⢐',\n",
       " '，',\n",
       " '＼',\n",
       " '⢠',\n",
       " '–',\n",
       " '⠲',\n",
       " '⡠',\n",
       " '⠀',\n",
       " '⣰',\n",
       " '⢩',\n",
       " '⢾',\n",
       " '⠂',\n",
       " '⣸',\n",
       " '⣩',\n",
       " 'ุ',\n",
       " '😍',\n",
       " '⣀',\n",
       " '＞',\n",
       " '⣿',\n",
       " '¯',\n",
       " '⢘',\n",
       " '⢗',\n",
       " '⣋',\n",
       " '⠒',\n",
       " '⢉',\n",
       " '✔',\n",
       " '£',\n",
       " '✅',\n",
       " '⠞',\n",
       " '🗣',\n",
       " '⠋',\n",
       " '…',\n",
       " '⣦',\n",
       " '🙌',\n",
       " '⣝',\n",
       " '️',\n",
       " '⠗',\n",
       " '⡶',\n",
       " '😭',\n",
       " '🤔',\n",
       " '⢷',\n",
       " '⣉',\n",
       " '⣐',\n",
       " '⠉',\n",
       " '⡇',\n",
       " '⣁',\n",
       " '์',\n",
       " '⣴',\n",
       " '\\u200d',\n",
       " '⣬',\n",
       " '⠚',\n",
       " '⠇',\n",
       " '⠘',\n",
       " '⠿',\n",
       " '☐',\n",
       " '⠾',\n",
       " '⡽',\n",
       " 'ั',\n",
       " '⡻',\n",
       " '⣄',\n",
       " '⣕',\n",
       " '⡆',\n",
       " '🏼',\n",
       " '⢦',\n",
       " '⢃',\n",
       " '⢶',\n",
       " '⡏',\n",
       " 'ู',\n",
       " '\\u3000',\n",
       " '⣑',\n",
       " '￣',\n",
       " '⣶',\n",
       " '⣈']"
      ]
     },
     "execution_count": 16,
     "metadata": {},
     "output_type": "execute_result"
    }
   ],
   "source": [
    "# find other strange characters\n",
    "\n",
    "strangers = df[\"review\"].apply(find_impurities).to_list()\n",
    "strangers = list(set().union(*strangers))\n",
    "if ' ' in strangers:\n",
    "  strangers.remove(' ')\n",
    "strangers"
   ]
  },
  {
   "cell_type": "code",
   "execution_count": 17,
   "metadata": {},
   "outputs": [
    {
     "name": "stdout",
     "output_type": "stream",
     "text": [
      "!|\"|\\#|\\$|%|\\&|'|\\(|\\)|\\*|\\+|,|\\-|\\.|/|:|;|<|=|>|\\?|@|\\[|\\\\|\\]|\\^|_|`|\\{|\\||\\}|\\~|／|⠴|⠣|⢴|⡀|✡|♥|⠖|⠙|⢀|่|⣙|⠠|⢏|⡋|⢸|☑|⠤|⡴|⠦|🌸|⣏|😊|⡘|⣯|⣾|⣧|⠳|⢰|⡸|⣮|⠆|⣆|│|ื|ี|⡧|⠓|⠏|⢛|⢤|⠸|🐐|⡟|👨|⠻|👉|⣠|⠛|´|⡌|⠶|🔥|⠈|⡛|⡄|😁|⠹|⢢|⣷|⣲|🍳|°|’|⠃|⣹|⢨|⡐|⣽|⠁|‘|⣤|⠟|้|❤|⣛|⣗|⢹|👍|⣥|€|⣍|⢻|🫡|⢿|⠐|⠯|⠎|⢋|＿|⠢|⠄|⣼|⡁|⣻|⡿|⣇|⣫|—|⣟|💋|⡝|⢐|，|＼|⢠|–|⠲|⡠|⠀|⣰|⢩|⢾|⠂|⣸|⣩|ุ|😍|⣀|＞|⣿|¯|⢘|⢗|⣋|⠒|⢉|✔|£|✅|⠞|🗣|⠋|…|⣦|🙌|⣝|️|⠗|⡶|😭|🤔|⢷|⣉|⣐|⠉|⡇|⣁|์|⣴|‍|⣬|⠚|⠇|⠘|⠿|☐|⠾|⡽|ั|⡻|⣄|⣕|⡆|🏼|⢦|⢃|⢶|⡏|ู|　|⣑|￣|⣶|⣈\n"
     ]
    }
   ],
   "source": [
    "# pattern for all punctuations to remove\n",
    "punctuations =  \"|\".join([re.escape(sym) for sym in list(string.punctuation) + strangers])\n",
    "print(punctuations)\n",
    "\n",
    "# remove punctuations\n",
    "df[\"review\"] = df[\"review\"].apply(lambda s: re.sub(punctuations, ' ', s))\n",
    "df[\"review\"] = df[\"review\"].apply(shrink_space)\n",
    "\n",
    "# we do not remove numbers because, many aspects of games require numbers for a review to be meaningful"
   ]
  },
  {
   "cell_type": "code",
   "execution_count": 18,
   "metadata": {},
   "outputs": [],
   "source": [
    "# lower case\n",
    "\n",
    "df[\"review\"] = df[\"review\"].apply(lambda x: x.lower())"
   ]
  },
  {
   "cell_type": "code",
   "execution_count": 19,
   "metadata": {},
   "outputs": [],
   "source": [
    "# remove stopwords, english & spanish\n",
    "\n",
    "eng_esp_stops = nltk.corpus.stopwords.words(['english', 'spanish'])\n",
    "df[\"review\"] = df[\"review\"].apply(lambda x: remove_words(x, eng_esp_stops))\n",
    "df[\"review\"] = df[\"review\"].apply(shrink_space)"
   ]
  },
  {
   "cell_type": "code",
   "execution_count": 20,
   "metadata": {},
   "outputs": [],
   "source": [
    "# lemmatization\n",
    "\n",
    "lemmatizer = nltk.stem.WordNetLemmatizer()\n",
    "df[\"review\"] = df[\"review\"].apply( lambda x: \" \".join([lemmatizer.lemmatize(c) for c in x.split(\" \")]) )"
   ]
  },
  {
   "cell_type": "code",
   "execution_count": 21,
   "metadata": {},
   "outputs": [
    {
     "data": {
      "text/html": [
       "<div>\n",
       "<style scoped>\n",
       "    .dataframe tbody tr th:only-of-type {\n",
       "        vertical-align: middle;\n",
       "    }\n",
       "\n",
       "    .dataframe tbody tr th {\n",
       "        vertical-align: top;\n",
       "    }\n",
       "\n",
       "    .dataframe thead th {\n",
       "        text-align: right;\n",
       "    }\n",
       "</style>\n",
       "<table border=\"1\" class=\"dataframe\">\n",
       "  <thead>\n",
       "    <tr style=\"text-align: right;\">\n",
       "      <th></th>\n",
       "      <th>game_id</th>\n",
       "      <th>review</th>\n",
       "      <th>sentiment</th>\n",
       "    </tr>\n",
       "  </thead>\n",
       "  <tbody>\n",
       "    <tr>\n",
       "      <th>0</th>\n",
       "      <td>292030</td>\n",
       "      <td>one greatest rpgs date triumph genre even 7 ye...</td>\n",
       "      <td>1</td>\n",
       "    </tr>\n",
       "    <tr>\n",
       "      <th>1</th>\n",
       "      <td>292030</td>\n",
       "      <td>stunning upgraded graphic best rpg game ever</td>\n",
       "      <td>1</td>\n",
       "    </tr>\n",
       "    <tr>\n",
       "      <th>2</th>\n",
       "      <td>292030</td>\n",
       "      <td>rowch</td>\n",
       "      <td>1</td>\n",
       "    </tr>\n",
       "    <tr>\n",
       "      <th>3</th>\n",
       "      <td>292030</td>\n",
       "      <td>leave cat friend pas pet give thumb フ l ミ xノ ヽ...</td>\n",
       "      <td>1</td>\n",
       "    </tr>\n",
       "    <tr>\n",
       "      <th>4</th>\n",
       "      <td>292030</td>\n",
       "      <td>consumed</td>\n",
       "      <td>1</td>\n",
       "    </tr>\n",
       "  </tbody>\n",
       "</table>\n",
       "</div>"
      ],
      "text/plain": [
       "   game_id                                             review  sentiment\n",
       "0   292030  one greatest rpgs date triumph genre even 7 ye...          1\n",
       "1   292030      stunning upgraded graphic best rpg game ever           1\n",
       "2   292030                                              rowch          1\n",
       "3   292030  leave cat friend pas pet give thumb フ l ミ xノ ヽ...          1\n",
       "4   292030                                           consumed          1"
      ]
     },
     "execution_count": 21,
     "metadata": {},
     "output_type": "execute_result"
    }
   ],
   "source": [
    "df.head()"
   ]
  },
  {
   "cell_type": "markdown",
   "metadata": {},
   "source": [
    "## View clean text & save"
   ]
  },
  {
   "cell_type": "code",
   "execution_count": 22,
   "metadata": {},
   "outputs": [
    {
     "data": {
      "text/plain": [
       "'ng next gen say nearly 300 hr masterpiece'"
      ]
     },
     "execution_count": 22,
     "metadata": {},
     "output_type": "execute_result"
    }
   ],
   "source": [
    "df.loc[19, \"review\"]"
   ]
  },
  {
   "cell_type": "code",
   "execution_count": 23,
   "metadata": {},
   "outputs": [
    {
     "data": {
      "text/plain": [
       "array([1, 0])"
      ]
     },
     "execution_count": 23,
     "metadata": {},
     "output_type": "execute_result"
    }
   ],
   "source": [
    "df.sentiment.unique()"
   ]
  },
  {
   "cell_type": "code",
   "execution_count": 24,
   "metadata": {},
   "outputs": [],
   "source": [
    "df.to_csv('../../datasets/steam_reviews.csv', index=False)"
   ]
  }
 ],
 "metadata": {
  "kernelspec": {
   "display_name": "Python 3",
   "language": "python",
   "name": "python3"
  },
  "language_info": {
   "codemirror_mode": {
    "name": "ipython",
    "version": 3
   },
   "file_extension": ".py",
   "mimetype": "text/x-python",
   "name": "python",
   "nbconvert_exporter": "python",
   "pygments_lexer": "ipython3",
   "version": "3.10.12"
  },
  "orig_nbformat": 4
 },
 "nbformat": 4,
 "nbformat_minor": 2
}
