{
 "cells": [
  {
   "cell_type": "markdown",
   "metadata": {},
   "source": [
    "# Sentiment analysis & keyword extraction for user reviews on Steam"
   ]
  },
  {
   "cell_type": "code",
   "execution_count": 35,
   "metadata": {},
   "outputs": [],
   "source": [
    "from sklearn.feature_extraction.text import CountVectorizer\n",
    "from sklearn import svm\n",
    "from sklearn.utils import resample\n",
    "from sklearn.metrics import accuracy_score, confusion_matrix\n",
    "\n",
    "import yake as yk\n",
    "import pandas as pd\n",
    "import numpy as np\n",
    "import matplotlib.pyplot as plt\n",
    "import seaborn as sns\n",
    "sns.set_style('dark', {'axes.grid' : False})"
   ]
  },
  {
   "cell_type": "markdown",
   "metadata": {},
   "source": [
    "## Sentiment analysis"
   ]
  },
  {
   "cell_type": "code",
   "execution_count": 36,
   "metadata": {},
   "outputs": [
    {
     "data": {
      "text/html": [
       "<div>\n",
       "<style scoped>\n",
       "    .dataframe tbody tr th:only-of-type {\n",
       "        vertical-align: middle;\n",
       "    }\n",
       "\n",
       "    .dataframe tbody tr th {\n",
       "        vertical-align: top;\n",
       "    }\n",
       "\n",
       "    .dataframe thead th {\n",
       "        text-align: right;\n",
       "    }\n",
       "</style>\n",
       "<table border=\"1\" class=\"dataframe\">\n",
       "  <thead>\n",
       "    <tr style=\"text-align: right;\">\n",
       "      <th></th>\n",
       "      <th>game_id</th>\n",
       "      <th>review</th>\n",
       "      <th>sentiment</th>\n",
       "    </tr>\n",
       "  </thead>\n",
       "  <tbody>\n",
       "    <tr>\n",
       "      <th>0</th>\n",
       "      <td>292030</td>\n",
       "      <td>one greatest rpgs date triumph genre even 7 ye...</td>\n",
       "      <td>1</td>\n",
       "    </tr>\n",
       "    <tr>\n",
       "      <th>1</th>\n",
       "      <td>292030</td>\n",
       "      <td>stunning upgraded graphic best rpg game ever</td>\n",
       "      <td>1</td>\n",
       "    </tr>\n",
       "    <tr>\n",
       "      <th>2</th>\n",
       "      <td>292030</td>\n",
       "      <td>rowch</td>\n",
       "      <td>1</td>\n",
       "    </tr>\n",
       "    <tr>\n",
       "      <th>3</th>\n",
       "      <td>292030</td>\n",
       "      <td>leave cat friend pas pet give thumb フ l ミ xノ ヽ...</td>\n",
       "      <td>1</td>\n",
       "    </tr>\n",
       "    <tr>\n",
       "      <th>4</th>\n",
       "      <td>292030</td>\n",
       "      <td>consumed</td>\n",
       "      <td>1</td>\n",
       "    </tr>\n",
       "  </tbody>\n",
       "</table>\n",
       "</div>"
      ],
      "text/plain": [
       "   game_id                                             review  sentiment\n",
       "0   292030  one greatest rpgs date triumph genre even 7 ye...          1\n",
       "1   292030      stunning upgraded graphic best rpg game ever           1\n",
       "2   292030                                              rowch          1\n",
       "3   292030  leave cat friend pas pet give thumb フ l ミ xノ ヽ...          1\n",
       "4   292030                                           consumed          1"
      ]
     },
     "execution_count": 36,
     "metadata": {},
     "output_type": "execute_result"
    }
   ],
   "source": [
    "df = pd.read_csv('../../datasets/steam_reviews.csv')\n",
    "df.head()"
   ]
  },
  {
   "cell_type": "code",
   "execution_count": 37,
   "metadata": {},
   "outputs": [
    {
     "name": "stdout",
     "output_type": "stream",
     "text": [
      "(1500, 3) (500, 3)\n"
     ]
    }
   ],
   "source": [
    "# training and testing data\n",
    "\n",
    "df_train = df.copy().iloc[:1500, :]\n",
    "df_test = df.copy().iloc[1500:, :]\n",
    "print(df_train.shape, df_test.shape)"
   ]
  },
  {
   "cell_type": "code",
   "execution_count": 38,
   "metadata": {},
   "outputs": [
    {
     "data": {
      "text/plain": [
       "15"
      ]
     },
     "execution_count": 38,
     "metadata": {},
     "output_type": "execute_result"
    }
   ],
   "source": [
    "# empty reviews present after cleaning\n",
    "\n",
    "df.review.isna().sum()"
   ]
  },
  {
   "cell_type": "code",
   "execution_count": 39,
   "metadata": {},
   "outputs": [
    {
     "name": "stdout",
     "output_type": "stream",
     "text": [
      "(1488, 3) (497, 3)\n"
     ]
    }
   ],
   "source": [
    "# removing empty reviews\n",
    "\n",
    "df_train = df_train.dropna()\n",
    "df_test = df_test.dropna()\n",
    "print(df_train.shape, df_test.shape)"
   ]
  },
  {
   "cell_type": "markdown",
   "metadata": {},
   "source": [
    "### SVM model"
   ]
  },
  {
   "cell_type": "code",
   "execution_count": 40,
   "metadata": {},
   "outputs": [],
   "source": [
    "# vectorizing text docs\n",
    "\n",
    "docs_train, docs_test = df_train.review.to_list(), df_test.review.to_list()\n",
    "vectorizer = CountVectorizer()\n",
    "vectorizer.fit(docs_train)\n",
    "\n",
    "vectors_train = vectorizer.transform(docs_train)\n",
    "vectors_test = vectorizer.transform(docs_test)\n",
    "\n",
    "vocab_train = vectorizer.vocabulary_"
   ]
  },
  {
   "cell_type": "code",
   "execution_count": 41,
   "metadata": {},
   "outputs": [
    {
     "name": "stdout",
     "output_type": "stream",
     "text": [
      "<class 'dict'> 5145\n"
     ]
    },
    {
     "data": {
      "text/plain": [
       "(1488, 5145)"
      ]
     },
     "execution_count": 41,
     "metadata": {},
     "output_type": "execute_result"
    }
   ],
   "source": [
    "print(type(vocab_train), len(vocab_train))\n",
    "vectors_train.shape"
   ]
  },
  {
   "cell_type": "code",
   "execution_count": 42,
   "metadata": {},
   "outputs": [
    {
     "name": "stdout",
     "output_type": "stream",
     "text": [
      "(1488, 5145) (1488,)\n"
     ]
    }
   ],
   "source": [
    "X_train, X_test = vectors_train.toarray(), vectors_test.toarray()\n",
    "Y_train, Y_test = df_train.sentiment.to_numpy(), df_test.sentiment.to_numpy()\n",
    "print(X_train.shape, Y_train.shape)"
   ]
  },
  {
   "cell_type": "code",
   "execution_count": 43,
   "metadata": {},
   "outputs": [
    {
     "name": "stdout",
     "output_type": "stream",
     "text": [
      "1320 168\n"
     ]
    }
   ],
   "source": [
    "print(len(X_train[Y_train==1]), len(X_train[Y_train==0]))"
   ]
  },
  {
   "cell_type": "code",
   "execution_count": 44,
   "metadata": {},
   "outputs": [
    {
     "name": "stdout",
     "output_type": "stream",
     "text": [
      "<class 'numpy.ndarray'> (1152, 5145)\n"
     ]
    }
   ],
   "source": [
    "# need to upsample the negative sentiment category\n",
    "\n",
    "minority_samples_needed = len(X_train[Y_train==1]) - len(X_train[Y_train==0])\n",
    "X_re_neg = resample(X_train[Y_train==0], n_samples=minority_samples_needed)\n",
    "print(type(X_re_neg), X_re_neg.shape)"
   ]
  },
  {
   "cell_type": "code",
   "execution_count": 45,
   "metadata": {},
   "outputs": [
    {
     "name": "stdout",
     "output_type": "stream",
     "text": [
      "(2640, 5145) (2640,)\n"
     ]
    }
   ],
   "source": [
    "X_train = np.concatenate((X_train, X_re_neg))\n",
    "Y_train = np.concatenate( (Y_train, np.zeros(len(X_re_neg))) )\n",
    "print(X_train.shape, Y_train.shape)"
   ]
  },
  {
   "cell_type": "code",
   "execution_count": 46,
   "metadata": {},
   "outputs": [
    {
     "data": {
      "text/plain": [
       "(497,)"
      ]
     },
     "execution_count": 46,
     "metadata": {},
     "output_type": "execute_result"
    }
   ],
   "source": [
    "# create SVM classifier\n",
    "\n",
    "classifier = svm.SVC(kernel='rbf')\n",
    "classifier.fit(X_train, Y_train)\n",
    "predictions = classifier.predict(X_test)\n",
    "predictions.shape"
   ]
  },
  {
   "cell_type": "code",
   "execution_count": 47,
   "metadata": {},
   "outputs": [
    {
     "name": "stdout",
     "output_type": "stream",
     "text": [
      "Confusion matrix:\n",
      "[[  7  36]\n",
      " [  8 446]]\n",
      "Accuracy_score: 0.9114688128772636\n"
     ]
    }
   ],
   "source": [
    "# evaluate model\n",
    "\n",
    "print(f\"Confusion matrix:\\n{confusion_matrix(Y_test, predictions)}\\n\"\n",
    "      f\"Accuracy_score: {accuracy_score(Y_test, predictions)}\")"
   ]
  },
  {
   "cell_type": "markdown",
   "metadata": {},
   "source": [
    "## Keyword extraction"
   ]
  },
  {
   "cell_type": "code",
   "execution_count": 48,
   "metadata": {},
   "outputs": [],
   "source": [
    "# removing null reviews off the original dataframe\n",
    "\n",
    "df = df.dropna()"
   ]
  },
  {
   "cell_type": "code",
   "execution_count": 49,
   "metadata": {},
   "outputs": [],
   "source": [
    "# extractor\n",
    "\n",
    "language = 'en'\n",
    "max_ngram = 1\n",
    "keywords_num = 25\n",
    "extractor = yk.KeywordExtractor(lan=language, n=max_ngram, top=keywords_num)"
   ]
  },
  {
   "cell_type": "code",
   "execution_count": 50,
   "metadata": {},
   "outputs": [
    {
     "name": "stdout",
     "output_type": "stream",
     "text": [
      "Positive:\n",
      " ['game', 'story', 'good', 'great', 'play', 'time', 'played', 'world', 'graphic', 'amazing', 'character', 'fun', 'gameplay', 'love', 'playing', 'experience', 'make', 'recommend', 'feel', 'run', 'lot', 'beautiful', 'hour', 'worth', 'part']\n",
      "Negative:\n",
      " ['game', 'play', 'story', 'time', 'woman', 'hour', 'crash', 'run', 'good', 'men', 'world', 'issue', 'character', 'boring', 'graphic', 'people', 'played', 'make', 'port', 'playing', 'rockstar', 'setting', 'combat', 'buy', 'feel']\n"
     ]
    }
   ],
   "source": [
    "# keywords by sentiment\n",
    "\n",
    "pos_revs = ' '.join(df.loc[df[\"sentiment\"]==1, \"review\"].to_list())\n",
    "neg_revs = ' '.join(df.loc[df[\"sentiment\"]==0, \"review\"].to_list())\n",
    "\n",
    "pos_kws = extractor.extract_keywords(pos_revs)\n",
    "neg_kws = extractor.extract_keywords(neg_revs)\n",
    "print(f\"Positive:\\n {[p for p, _ in pos_kws]}\")\n",
    "print(f\"Negative:\\n {[n for n, _ in neg_kws]}\")"
   ]
  },
  {
   "cell_type": "code",
   "execution_count": 51,
   "metadata": {},
   "outputs": [
    {
     "name": "stdout",
     "output_type": "stream",
     "text": [
      "292030:['game', 'story', 'good', 'rpg', 'witcher', 'world', 'play', 'played', 'great', 'time', 'quest', 'hour', 'character', 'playing', 'fun', 'make', 'combat', 'experience', 'side', 'feel', 'amazing', 'made', 'gameplay', 'rpgs', 'geralt']\n",
      "\n",
      "1888930:['game', 'story', 'good', 'play', 'time', 'run', 'played', 'graphic', 'great', 'issue', 'part', 'bug', 'crash', 'performance', 'amazing', 'port', 'fps', 'setting', 'playing', 'recommend', 'character', 'experience', 'gameplay', 'worth', 'thing']\n",
      "\n",
      "1151640:['game', 'story', 'good', 'great', 'world', 'play', 'graphic', 'time', 'gameplay', 'fun', 'character', 'amazing', 'played', 'combat', 'beautiful', 'machine', 'enemy', 'open', 'feel', 'love', 'lot', 'woman', 'quest', 'aloy', 'recommend']\n",
      "\n",
      "1174180:['game', 'story', 'good', 'play', 'world', 'time', 'rockstar', 'dead', 'love', 'great', 'arthur', 'red', 'character', 'played', 'online', 'fun', 'redemption', 'hour', 'player', 'amazing', 'make', 'horse', 'mission', 'open', 'feel']\n",
      "\n"
     ]
    }
   ],
   "source": [
    "# keywords by game\n",
    "\n",
    "game_kws = dict()\n",
    "\n",
    "for g in df.game_id.unique():\n",
    "  all_rev_text = ' '.join(df.loc[df[\"game_id\"]==g, \"review\"].to_list())\n",
    "  game_kws[g] = extractor.extract_keywords(all_rev_text)\n",
    "\n",
    "for k, v in game_kws.items():\n",
    "  print(f'{k}:{[w for w, _ in v]}\\n')"
   ]
  }
 ],
 "metadata": {
  "kernelspec": {
   "display_name": "Python 3",
   "language": "python",
   "name": "python3"
  },
  "language_info": {
   "codemirror_mode": {
    "name": "ipython",
    "version": 3
   },
   "file_extension": ".py",
   "mimetype": "text/x-python",
   "name": "python",
   "nbconvert_exporter": "python",
   "pygments_lexer": "ipython3",
   "version": "3.10.12"
  },
  "orig_nbformat": 4
 },
 "nbformat": 4,
 "nbformat_minor": 2
}
