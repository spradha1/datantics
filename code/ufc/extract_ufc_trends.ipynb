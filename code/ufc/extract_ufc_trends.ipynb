{
  "cells": [
    {
      "cell_type": "markdown",
      "metadata": {},
      "source": [
        "# Extracting news articles from the official UFC website"
      ]
    },
    {
      "cell_type": "code",
      "execution_count": 281,
      "metadata": {
        "id": "ddZD8Lb8ZT4q"
      },
      "outputs": [],
      "source": [
        "import requests\n",
        "from bs4 import BeautifulSoup\n",
        "import pandas as pd\n",
        "import numpy as np\n",
        "import re\n",
        "import string\n",
        "import nltk"
      ]
    },
    {
      "cell_type": "code",
      "execution_count": 308,
      "metadata": {},
      "outputs": [
        {
          "name": "stderr",
          "output_type": "stream",
          "text": [
            "[nltk_data] Downloading package stopwords to /home/sanjiv/nltk_data...\n",
            "[nltk_data]   Package stopwords is already up-to-date!\n",
            "[nltk_data] Downloading package wordnet to /home/sanjiv/nltk_data...\n",
            "[nltk_data]   Package wordnet is already up-to-date!\n"
          ]
        },
        {
          "data": {
            "text/plain": [
              "True"
            ]
          },
          "execution_count": 308,
          "metadata": {},
          "output_type": "execute_result"
        }
      ],
      "source": [
        "nltk.download(['stopwords', 'wordnet'])"
      ]
    },
    {
      "cell_type": "markdown",
      "metadata": {},
      "source": [
        "## Web scraping"
      ]
    },
    {
      "cell_type": "code",
      "execution_count": 283,
      "metadata": {
        "id": "otBr81brDCJq"
      },
      "outputs": [],
      "source": [
        "article_num = 12\n",
        "news_links = []\n",
        "link_pattern = re.compile(\"^/news/.*\")"
      ]
    },
    {
      "cell_type": "code",
      "execution_count": 284,
      "metadata": {
        "id": "ifhFsThqcKgQ"
      },
      "outputs": [],
      "source": [
        "# getting urls for the indivdual news' pages\n",
        "\n",
        "p = 0\n",
        "while len(news_links) < article_num:\n",
        "  r = requests.get('https://www.ufc.com/trending/all?filters%5B0%5D=type%3Aarticle&created=1&page={}'.format(p))\n",
        "  soup = BeautifulSoup(r.content, 'html.parser')\n",
        "  news_cards = [ele.find('a') for ele in soup.find(class_='views-element-container').find_all(class_='grid-item')]\n",
        "  for n in news_cards:\n",
        "    if n is not None:\n",
        "      link = n.attrs['href']\n",
        "      if link_pattern.match(link):\n",
        "        news_links.append(link)\n",
        "  p += 1"
      ]
    },
    {
      "cell_type": "code",
      "execution_count": 285,
      "metadata": {
        "colab": {
          "base_uri": "https://localhost:8080/"
        },
        "id": "KJPztBZDqDZK",
        "outputId": "5261a918-c08a-4fe3-bccf-7617c6d6c0d5"
      },
      "outputs": [
        {
          "data": {
            "text/plain": [
              "14"
            ]
          },
          "execution_count": 285,
          "metadata": {},
          "output_type": "execute_result"
        }
      ],
      "source": [
        "len(news_links)"
      ]
    },
    {
      "cell_type": "code",
      "execution_count": 286,
      "metadata": {
        "id": "NSPTeJQ7i26E"
      },
      "outputs": [],
      "source": [
        "# scraping content from each article page\n",
        "\n",
        "articles = []\n",
        "\n",
        "for lnk in news_links[:article_num]:\n",
        "\n",
        "  r = requests.get('https://www.ufc.com{}'.format(lnk))\n",
        "  soup = BeautifulSoup(r.content, 'html.parser')\n",
        "  article = dict()\n",
        "\n",
        "  article_category = soup.find('div', class_='field--name-category')\n",
        "  if article_category is not None:\n",
        "    categories = article_category.find_all('div', class_='field__item')\n",
        "    article['categories'] = [c.get_text() for c in categories]\n",
        "  else:\n",
        "    article['categories'] = []\n",
        "\n",
        "  article['title'] = soup.find('div', class_='field--name-node-title')\n",
        "  article['title'] =  '' if article['title'] is None else article['title'].get_text()\n",
        "\n",
        "  article['body'] = soup.find('div', class_='field--name-body-structured')\n",
        "  article['body'] =  '' if article['body'] is None else article['body'].get_text()\n",
        "\n",
        "  article_tags = soup.find('div', class_='field__items l-flex--2col-1to2')\n",
        "  if article_tags is not None:\n",
        "    tags = article_tags.find_all('div', class_='e-link--tag')\n",
        "    article['tags'] = [t.get_text() for t in tags]\n",
        "  else:\n",
        "    article['tags'] = []\n",
        "\n",
        "  articles.append(article)"
      ]
    },
    {
      "cell_type": "markdown",
      "metadata": {},
      "source": [
        "## Text cleaning"
      ]
    },
    {
      "cell_type": "code",
      "execution_count": 287,
      "metadata": {
        "colab": {
          "base_uri": "https://localhost:8080/"
        },
        "id": "_Niiwtw9P78v",
        "outputId": "90de970b-16cd-4019-8964-bb05b6cc33f9"
      },
      "outputs": [],
      "source": [
        "df = pd.DataFrame.from_dict(articles)"
      ]
    },
    {
      "cell_type": "code",
      "execution_count": 288,
      "metadata": {},
      "outputs": [
        {
          "data": {
            "text/html": [
              "<div>\n",
              "<style scoped>\n",
              "    .dataframe tbody tr th:only-of-type {\n",
              "        vertical-align: middle;\n",
              "    }\n",
              "\n",
              "    .dataframe tbody tr th {\n",
              "        vertical-align: top;\n",
              "    }\n",
              "\n",
              "    .dataframe thead th {\n",
              "        text-align: right;\n",
              "    }\n",
              "</style>\n",
              "<table border=\"1\" class=\"dataframe\">\n",
              "  <thead>\n",
              "    <tr style=\"text-align: right;\">\n",
              "      <th></th>\n",
              "      <th>categories</th>\n",
              "      <th>title</th>\n",
              "      <th>body</th>\n",
              "      <th>tags</th>\n",
              "    </tr>\n",
              "  </thead>\n",
              "  <tbody>\n",
              "    <tr>\n",
              "      <th>0</th>\n",
              "      <td>[Athletes]</td>\n",
              "      <td>\\n  SERGHEI SPIVAC IS ALL FOCUS\\n\\n</td>\n",
              "      <td>\\n \\nThe 28-year-old “Polar Bear” from Moldova...</td>\n",
              "      <td>[]</td>\n",
              "    </tr>\n",
              "    <tr>\n",
              "      <th>1</th>\n",
              "      <td>[Dana White's Contender Series]</td>\n",
              "      <td>\\n  Week 4 Preview | Dana White's Contender Se...</td>\n",
              "      <td>\\n \\nLast week marked the first episode of the...</td>\n",
              "      <td>[\\n\\n          card preview\\n        \\n]</td>\n",
              "    </tr>\n",
              "    <tr>\n",
              "      <th>2</th>\n",
              "      <td>[Fight Coverage]</td>\n",
              "      <td>\\n  Fight by Fight Preview | UFC Fight Night: ...</td>\n",
              "      <td>\\n \\nSimilar to last September, French heavywe...</td>\n",
              "      <td>[\\n\\n          UFC Paris\\n        \\n, \\n\\n    ...</td>\n",
              "    </tr>\n",
              "    <tr>\n",
              "      <th>3</th>\n",
              "      <td>[Results]</td>\n",
              "      <td>\\n  Road To UFC Final Results &amp; Scorecards | S...</td>\n",
              "      <td>\\n \\nHere's how it all went down Sunday mornin...</td>\n",
              "      <td>[\\n\\n          Road To UFC\\n        \\n, \\n\\n  ...</td>\n",
              "    </tr>\n",
              "    <tr>\n",
              "      <th>4</th>\n",
              "      <td>[Road To UFC]</td>\n",
              "      <td>\\n  Updates To Road To UFC Season 2 \\n\\n</td>\n",
              "      <td>\\n \\nHaraguchi will now fight Jae Hyun Park in...</td>\n",
              "      <td>[\\n\\n          Road To UFC\\n        \\n]</td>\n",
              "    </tr>\n",
              "  </tbody>\n",
              "</table>\n",
              "</div>"
            ],
            "text/plain": [
              "                        categories  \\\n",
              "0                       [Athletes]   \n",
              "1  [Dana White's Contender Series]   \n",
              "2                 [Fight Coverage]   \n",
              "3                        [Results]   \n",
              "4                    [Road To UFC]   \n",
              "\n",
              "                                               title  \\\n",
              "0                \\n  SERGHEI SPIVAC IS ALL FOCUS\\n\\n   \n",
              "1  \\n  Week 4 Preview | Dana White's Contender Se...   \n",
              "2  \\n  Fight by Fight Preview | UFC Fight Night: ...   \n",
              "3  \\n  Road To UFC Final Results & Scorecards | S...   \n",
              "4           \\n  Updates To Road To UFC Season 2 \\n\\n   \n",
              "\n",
              "                                                body  \\\n",
              "0  \\n \\nThe 28-year-old “Polar Bear” from Moldova...   \n",
              "1  \\n \\nLast week marked the first episode of the...   \n",
              "2  \\n \\nSimilar to last September, French heavywe...   \n",
              "3  \\n \\nHere's how it all went down Sunday mornin...   \n",
              "4  \\n \\nHaraguchi will now fight Jae Hyun Park in...   \n",
              "\n",
              "                                                tags  \n",
              "0                                                 []  \n",
              "1           [\\n\\n          card preview\\n        \\n]  \n",
              "2  [\\n\\n          UFC Paris\\n        \\n, \\n\\n    ...  \n",
              "3  [\\n\\n          Road To UFC\\n        \\n, \\n\\n  ...  \n",
              "4            [\\n\\n          Road To UFC\\n        \\n]  "
            ]
          },
          "execution_count": 288,
          "metadata": {},
          "output_type": "execute_result"
        }
      ],
      "source": [
        "# No character encoding issues seen in the texts\n",
        "df.head()"
      ]
    },
    {
      "cell_type": "code",
      "execution_count": 289,
      "metadata": {},
      "outputs": [],
      "source": [
        "'''\n",
        "  remove escape sequences,\n",
        "  strip leading and trailing whitespaces\n",
        "'''\n",
        "def escape_n_strip(s):\n",
        "  escapes = '\\b\\n\\r\\t\\\\' \n",
        "  for c in escapes: \n",
        "    s = s.replace(c, ' ')\n",
        "  return s.strip()\n",
        "\n",
        "# shrink large whitespaces into one\n",
        "def shrink_space(s):\n",
        "  return re.sub('\\s+', ' ', s)\n",
        "\n",
        "# find more unwanted non alphanumeric characters\n",
        "def find_impurities(s):\n",
        "  aliens = set()\n",
        "  for c in s:\n",
        "    if not c.isalnum() and c not in string.punctuation:\n",
        "      aliens.add(c)\n",
        "  return aliens\n",
        "\n",
        "# remove numbers\n",
        "def remove_numbers(s):\n",
        "  return re.sub('\\d+', ' ', s)\n",
        "\n",
        "# remove words in list 'r' from string 's' \n",
        "def remove_words(s, r):\n",
        "  words = s.split(\" \")\n",
        "  words = list( filter(lambda x: False if x in r else True, words) )\n",
        "  return \" \".join(words)"
      ]
    },
    {
      "cell_type": "code",
      "execution_count": 290,
      "metadata": {},
      "outputs": [
        {
          "data": {
            "text/plain": [
              "Index(['categories', 'title', 'body', 'tags'], dtype='object')"
            ]
          },
          "execution_count": 290,
          "metadata": {},
          "output_type": "execute_result"
        }
      ],
      "source": [
        "df.columns"
      ]
    },
    {
      "cell_type": "code",
      "execution_count": 291,
      "metadata": {},
      "outputs": [
        {
          "name": "stdout",
          "output_type": "stream",
          "text": [
            "<class 'pandas.core.frame.DataFrame'>\n",
            "RangeIndex: 12 entries, 0 to 11\n",
            "Data columns (total 4 columns):\n",
            " #   Column      Non-Null Count  Dtype \n",
            "---  ------      --------------  ----- \n",
            " 0   categories  12 non-null     object\n",
            " 1   title       12 non-null     object\n",
            " 2   body        12 non-null     object\n",
            " 3   tags        12 non-null     object\n",
            "dtypes: object(4)\n",
            "memory usage: 512.0+ bytes\n"
          ]
        }
      ],
      "source": [
        "df.info()"
      ]
    },
    {
      "cell_type": "code",
      "execution_count": 292,
      "metadata": {},
      "outputs": [],
      "source": [
        "# remove escape characters\n",
        "\n",
        "# text categories\n",
        "for col in ['title', 'body']:\n",
        "  df[col] = df[col].apply(escape_n_strip)\n",
        "  df[col] = df[col].apply(shrink_space)\n",
        "\n",
        "# list categories\n",
        "for col in ['categories', 'tags']:\n",
        "  newlist = []\n",
        "  for vals in df[col]:\n",
        "    nvals = []\n",
        "    for v in vals:\n",
        "      nvals.append( shrink_space( escape_n_strip(v) ) )\n",
        "    newlist.append(nvals)\n",
        "  df[col] = newlist"
      ]
    },
    {
      "cell_type": "code",
      "execution_count": 293,
      "metadata": {},
      "outputs": [
        {
          "data": {
            "text/html": [
              "<div>\n",
              "<style scoped>\n",
              "    .dataframe tbody tr th:only-of-type {\n",
              "        vertical-align: middle;\n",
              "    }\n",
              "\n",
              "    .dataframe tbody tr th {\n",
              "        vertical-align: top;\n",
              "    }\n",
              "\n",
              "    .dataframe thead th {\n",
              "        text-align: right;\n",
              "    }\n",
              "</style>\n",
              "<table border=\"1\" class=\"dataframe\">\n",
              "  <thead>\n",
              "    <tr style=\"text-align: right;\">\n",
              "      <th></th>\n",
              "      <th>categories</th>\n",
              "      <th>title</th>\n",
              "      <th>body</th>\n",
              "      <th>tags</th>\n",
              "    </tr>\n",
              "  </thead>\n",
              "  <tbody>\n",
              "    <tr>\n",
              "      <th>0</th>\n",
              "      <td>[Athletes]</td>\n",
              "      <td>SERGHEI SPIVAC IS ALL FOCUS</td>\n",
              "      <td>The 28-year-old “Polar Bear” from Moldova drop...</td>\n",
              "      <td>[]</td>\n",
              "    </tr>\n",
              "    <tr>\n",
              "      <th>1</th>\n",
              "      <td>[Dana White's Contender Series]</td>\n",
              "      <td>Week 4 Preview | Dana White's Contender Series...</td>\n",
              "      <td>Last week marked the first episode of the seas...</td>\n",
              "      <td>[card preview]</td>\n",
              "    </tr>\n",
              "    <tr>\n",
              "      <th>2</th>\n",
              "      <td>[Fight Coverage]</td>\n",
              "      <td>Fight by Fight Preview | UFC Fight Night: Gane...</td>\n",
              "      <td>Similar to last September, French heavyweight ...</td>\n",
              "      <td>[UFC Paris, Ciryl Gane, Serghei Spivac, Manon ...</td>\n",
              "    </tr>\n",
              "    <tr>\n",
              "      <th>3</th>\n",
              "      <td>[Results]</td>\n",
              "      <td>Road To UFC Final Results &amp; Scorecards | Seaso...</td>\n",
              "      <td>Here's how it all went down Sunday morning. Wa...</td>\n",
              "      <td>[Road To UFC, results, scorecards]</td>\n",
              "    </tr>\n",
              "    <tr>\n",
              "      <th>4</th>\n",
              "      <td>[Road To UFC]</td>\n",
              "      <td>Updates To Road To UFC Season 2</td>\n",
              "      <td>Haraguchi will now fight Jae Hyun Park in tomo...</td>\n",
              "      <td>[Road To UFC]</td>\n",
              "    </tr>\n",
              "  </tbody>\n",
              "</table>\n",
              "</div>"
            ],
            "text/plain": [
              "                        categories  \\\n",
              "0                       [Athletes]   \n",
              "1  [Dana White's Contender Series]   \n",
              "2                 [Fight Coverage]   \n",
              "3                        [Results]   \n",
              "4                    [Road To UFC]   \n",
              "\n",
              "                                               title  \\\n",
              "0                        SERGHEI SPIVAC IS ALL FOCUS   \n",
              "1  Week 4 Preview | Dana White's Contender Series...   \n",
              "2  Fight by Fight Preview | UFC Fight Night: Gane...   \n",
              "3  Road To UFC Final Results & Scorecards | Seaso...   \n",
              "4                    Updates To Road To UFC Season 2   \n",
              "\n",
              "                                                body  \\\n",
              "0  The 28-year-old “Polar Bear” from Moldova drop...   \n",
              "1  Last week marked the first episode of the seas...   \n",
              "2  Similar to last September, French heavyweight ...   \n",
              "3  Here's how it all went down Sunday morning. Wa...   \n",
              "4  Haraguchi will now fight Jae Hyun Park in tomo...   \n",
              "\n",
              "                                                tags  \n",
              "0                                                 []  \n",
              "1                                     [card preview]  \n",
              "2  [UFC Paris, Ciryl Gane, Serghei Spivac, Manon ...  \n",
              "3                 [Road To UFC, results, scorecards]  \n",
              "4                                      [Road To UFC]  "
            ]
          },
          "execution_count": 293,
          "metadata": {},
          "output_type": "execute_result"
        }
      ],
      "source": [
        "df.head()"
      ]
    },
    {
      "cell_type": "code",
      "execution_count": 294,
      "metadata": {},
      "outputs": [
        {
          "data": {
            "text/plain": [
              "'!\"#$%&\\'()*+,-./:;<=>?@[\\\\]^_`{|}~'"
            ]
          },
          "execution_count": 294,
          "metadata": {},
          "output_type": "execute_result"
        }
      ],
      "source": [
        "string.punctuation"
      ]
    },
    {
      "cell_type": "code",
      "execution_count": 295,
      "metadata": {},
      "outputs": [
        {
          "data": {
            "text/plain": [
              "['💥',\n",
              " '️',\n",
              " '🇫',\n",
              " '“',\n",
              " '😳',\n",
              " '…',\n",
              " '’',\n",
              " '☠',\n",
              " '\\u200d',\n",
              " '—',\n",
              " '‘',\n",
              " '🇷',\n",
              " '🏴',\n",
              " '–',\n",
              " '”']"
            ]
          },
          "execution_count": 295,
          "metadata": {},
          "output_type": "execute_result"
        }
      ],
      "source": [
        "# find other strange characters\n",
        "\n",
        "strangers = df['body'].apply(find_impurities).to_list()\n",
        "strangers = list(set().union(*strangers))\n",
        "if ' ' in strangers:\n",
        "  strangers.remove(' ')\n",
        "strangers"
      ]
    },
    {
      "cell_type": "code",
      "execution_count": 296,
      "metadata": {},
      "outputs": [
        {
          "data": {
            "text/plain": [
              "'!|\"|\\\\#|\\\\$|%|\\\\&|\\'|\\\\(|\\\\)|\\\\*|\\\\+|,|\\\\-|\\\\.|/|:|;|<|=|>|\\\\?|@|\\\\[|\\\\\\\\|\\\\]|\\\\^|_|`|\\\\{|\\\\||\\\\}|\\\\~|💥|️|🇫|“|😳|…|’|☠|\\u200d|—|‘|🇷|🏴|–|”'"
            ]
          },
          "execution_count": 296,
          "metadata": {},
          "output_type": "execute_result"
        }
      ],
      "source": [
        "# pattern for all punctuations to remove\n",
        "\n",
        "punctuations =  \"|\".join([re.escape(sym) for sym in list(string.punctuation) + strangers])\n",
        "punctuations"
      ]
    },
    {
      "cell_type": "code",
      "execution_count": 297,
      "metadata": {},
      "outputs": [],
      "source": [
        "df['body'] = df['body'].apply(lambda s: re.sub(punctuations, ' ', s))\n",
        "df['body'] = df['body'].apply(shrink_space)"
      ]
    },
    {
      "cell_type": "code",
      "execution_count": 298,
      "metadata": {},
      "outputs": [],
      "source": [
        "# remove numbers\n",
        "\n",
        "df['body'] = df['body'].apply(remove_numbers)\n",
        "df['body'] = df['body'].apply(shrink_space)"
      ]
    },
    {
      "cell_type": "code",
      "execution_count": 299,
      "metadata": {},
      "outputs": [],
      "source": [
        "# lower case\n",
        "\n",
        "df['body'] = df['body'].apply(lambda x: x.lower())"
      ]
    },
    {
      "cell_type": "code",
      "execution_count": 300,
      "metadata": {},
      "outputs": [],
      "source": [
        "# remove stopwords\n",
        "\n",
        "eng_stops = nltk.corpus.stopwords.words('english')\n",
        "df['body'] = df['body'].apply(lambda x: remove_words(x, eng_stops))\n",
        "df['body'] = df['body'].apply(shrink_space)"
      ]
    },
    {
      "cell_type": "code",
      "execution_count": 312,
      "metadata": {},
      "outputs": [],
      "source": [
        "# lemmatization\n",
        "\n",
        "lemmatizer = nltk.stem.WordNetLemmatizer()\n",
        "df['body'] = df['body'].apply( lambda x: \" \".join([lemmatizer.lemmatize(c) for c in x.split(\" \")]) )"
      ]
    },
    {
      "cell_type": "markdown",
      "metadata": {},
      "source": [
        "## View clean text & save"
      ]
    },
    {
      "cell_type": "code",
      "execution_count": 313,
      "metadata": {},
      "outputs": [
        {
          "data": {
            "text/plain": [
              "'went sunday morning watch ufc fight pas watch road ufc country road ufc official result nyamjargal tumendemberel defeat peter danesoe submission rear naked choke round rei tsuruya defeat mark climaco unanimous decision yizha defeat sangwon kim unanimous decision jiniushiyue defeat seung guk choi unanimous decision kaiwen defeat koya kanda unanimous decision xiao long defeat shuya kamikubo majority decision rongzhu defeat sang uk kim unanimous decision changho lee defeat daermisi zhawupasi tko ro'"
            ]
          },
          "execution_count": 313,
          "metadata": {},
          "output_type": "execute_result"
        }
      ],
      "source": [
        "df.iloc[3, 2][:500]"
      ]
    },
    {
      "cell_type": "code",
      "execution_count": 302,
      "metadata": {},
      "outputs": [
        {
          "data": {
            "text/plain": [
              "{'Athletes',\n",
              " \"Dana White's Contender Series\",\n",
              " 'Fight Coverage',\n",
              " 'Results',\n",
              " 'Road To UFC',\n",
              " 'UFC Fight Pass',\n",
              " 'Weigh-in'}"
            ]
          },
          "execution_count": 302,
          "metadata": {},
          "output_type": "execute_result"
        }
      ],
      "source": [
        "catlist = df.categories.to_list()\n",
        "unq_cats = set()\n",
        "for c in catlist:\n",
        "  for c1 in c:\n",
        "    unq_cats.add(c1)\n",
        "unq_cats"
      ]
    },
    {
      "cell_type": "code",
      "execution_count": 303,
      "metadata": {},
      "outputs": [
        {
          "data": {
            "text/plain": [
              "array(['SERGHEI SPIVAC IS ALL FOCUS',\n",
              "       \"Week 4 Preview | Dana White's Contender Series Season 7\",\n",
              "       'Fight by Fight Preview | UFC Fight Night: Gane vs Spivac',\n",
              "       'Road To UFC Final Results & Scorecards | Season 2 Semi-Finals',\n",
              "       'Updates To Road To UFC Season 2',\n",
              "       'Weigh-In Results | Road To UFC Asia: Episodes 5 & 6',\n",
              "       'Anthony Smith Enjoys Getting Out Of His Comfort Zone',\n",
              "       'Fight By Fight Preview | UFC Fight Night: Holloway vs The Korean Zombie',\n",
              "       'September Episodes Dana White’s Contender Series Fights Revealed',\n",
              "       'Waldo Cortes Acosta: ‘I’m Ready To Put Him Away’',\n",
              "       'Rinya Nakamura Believes His Rise Has Only Begun',\n",
              "       'Victoria Anthony Looks To Capitalize On Rare Opportunity | UFC FIGHT PASS'],\n",
              "      dtype=object)"
            ]
          },
          "execution_count": 303,
          "metadata": {},
          "output_type": "execute_result"
        }
      ],
      "source": [
        "df.title.unique()"
      ]
    },
    {
      "cell_type": "code",
      "execution_count": 304,
      "metadata": {},
      "outputs": [
        {
          "data": {
            "text/plain": [
              "{'Ciryl Gane',\n",
              " \"Dana White's Contender Series\",\n",
              " 'Fight By Fight',\n",
              " 'Korean Zombie',\n",
              " 'Manon Fiorot',\n",
              " 'Max Holloway',\n",
              " 'Official Weigh-In',\n",
              " 'Road To UFC',\n",
              " 'Rose Namajunas',\n",
              " 'Serghei Spivac',\n",
              " 'Singapore',\n",
              " 'UFC Paris',\n",
              " 'UFC Singapore',\n",
              " 'card preview',\n",
              " 'results',\n",
              " 'scorecards'}"
            ]
          },
          "execution_count": 304,
          "metadata": {},
          "output_type": "execute_result"
        }
      ],
      "source": [
        "taglist = df.tags.to_list()\n",
        "unq_tags = set()\n",
        "for t in taglist:\n",
        "  for t1 in t:\n",
        "    unq_tags.add(t1)\n",
        "unq_tags"
      ]
    },
    {
      "cell_type": "code",
      "execution_count": 305,
      "metadata": {},
      "outputs": [],
      "source": [
        "df.to_csv('../../datasets/ufc_trends.csv', index=False)"
      ]
    }
  ],
  "metadata": {
    "colab": {
      "provenance": []
    },
    "kernelspec": {
      "display_name": "Python 3",
      "name": "python3"
    },
    "language_info": {
      "codemirror_mode": {
        "name": "ipython",
        "version": 3
      },
      "file_extension": ".py",
      "mimetype": "text/x-python",
      "name": "python",
      "nbconvert_exporter": "python",
      "pygments_lexer": "ipython3",
      "version": "3.10.12"
    }
  },
  "nbformat": 4,
  "nbformat_minor": 0
}
