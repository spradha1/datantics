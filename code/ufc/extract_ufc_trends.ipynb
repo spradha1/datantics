{
  "cells": [
    {
      "cell_type": "markdown",
      "metadata": {},
      "source": [
        "# Extracting news articles from the official UFC website"
      ]
    },
    {
      "cell_type": "code",
      "execution_count": 1,
      "metadata": {
        "id": "ddZD8Lb8ZT4q"
      },
      "outputs": [],
      "source": [
        "import requests\n",
        "from bs4 import BeautifulSoup\n",
        "import pandas as pd\n",
        "import re\n",
        "import string\n",
        "import nltk"
      ]
    },
    {
      "cell_type": "code",
      "execution_count": 2,
      "metadata": {},
      "outputs": [
        {
          "name": "stderr",
          "output_type": "stream",
          "text": [
            "[nltk_data] Downloading package stopwords to /home/sanjiv/nltk_data...\n",
            "[nltk_data]   Package stopwords is already up-to-date!\n",
            "[nltk_data] Downloading package wordnet to /home/sanjiv/nltk_data...\n",
            "[nltk_data]   Package wordnet is already up-to-date!\n"
          ]
        },
        {
          "data": {
            "text/plain": [
              "True"
            ]
          },
          "execution_count": 2,
          "metadata": {},
          "output_type": "execute_result"
        }
      ],
      "source": [
        "nltk.download(['stopwords', 'wordnet'])"
      ]
    },
    {
      "cell_type": "markdown",
      "metadata": {},
      "source": [
        "## Web scraping"
      ]
    },
    {
      "cell_type": "code",
      "execution_count": 3,
      "metadata": {
        "id": "otBr81brDCJq"
      },
      "outputs": [],
      "source": [
        "article_num = 200\n",
        "news_links = []\n",
        "link_pattern = re.compile(\"^/news/.*\")"
      ]
    },
    {
      "cell_type": "code",
      "execution_count": 4,
      "metadata": {
        "id": "ifhFsThqcKgQ"
      },
      "outputs": [],
      "source": [
        "# getting urls for the indivdual news' pages\n",
        "\n",
        "p = 0\n",
        "while len(news_links) < article_num:\n",
        "  r = requests.get('https://www.ufc.com/trending/all?filters%5B0%5D=type%3Aarticle&created=1&page={}'.format(p))\n",
        "  soup = BeautifulSoup(r.content, 'html.parser')\n",
        "  news_cards = [ele.find('a') for ele in soup.find(class_='views-element-container').find_all(class_='grid-item')]\n",
        "  for n in news_cards:\n",
        "    if n is not None:\n",
        "      link = n.attrs['href']\n",
        "      if link_pattern.match(link):\n",
        "        news_links.append(link)\n",
        "  p += 1"
      ]
    },
    {
      "cell_type": "code",
      "execution_count": 5,
      "metadata": {
        "colab": {
          "base_uri": "https://localhost:8080/"
        },
        "id": "KJPztBZDqDZK",
        "outputId": "5261a918-c08a-4fe3-bccf-7617c6d6c0d5"
      },
      "outputs": [
        {
          "data": {
            "text/plain": [
              "209"
            ]
          },
          "execution_count": 5,
          "metadata": {},
          "output_type": "execute_result"
        }
      ],
      "source": [
        "len(news_links)"
      ]
    },
    {
      "cell_type": "code",
      "execution_count": 6,
      "metadata": {
        "id": "NSPTeJQ7i26E"
      },
      "outputs": [],
      "source": [
        "# scraping content from each article page\n",
        "\n",
        "articles = []\n",
        "\n",
        "for lnk in news_links[:article_num]:\n",
        "\n",
        "  r = requests.get('https://www.ufc.com{}'.format(lnk))\n",
        "  soup = BeautifulSoup(r.content, 'html.parser')\n",
        "  article = dict()\n",
        "\n",
        "  article_category = soup.find('div', class_='field--name-category')\n",
        "  if article_category is not None:\n",
        "    categories = article_category.find_all('div', class_='field__item')\n",
        "    article['categories'] = [c.get_text() for c in categories]\n",
        "  else:\n",
        "    article['categories'] = []\n",
        "\n",
        "  article['title'] = soup.find('div', class_='field--name-node-title')\n",
        "  article['title'] =  '' if article['title'] is None else article['title'].get_text()\n",
        "\n",
        "  article['body'] = soup.find('div', class_='field--name-body-structured')\n",
        "  article['body'] =  '' if article['body'] is None else article['body'].get_text()\n",
        "\n",
        "  article_tags = soup.find('div', class_='field__items l-flex--2col-1to2')\n",
        "  if article_tags is not None:\n",
        "    tags = article_tags.find_all('div', class_='e-link--tag')\n",
        "    article['tags'] = [t.get_text() for t in tags]\n",
        "  else:\n",
        "    article['tags'] = []\n",
        "\n",
        "  articles.append(article)"
      ]
    },
    {
      "cell_type": "markdown",
      "metadata": {},
      "source": [
        "## Data cleaning"
      ]
    },
    {
      "cell_type": "code",
      "execution_count": 7,
      "metadata": {
        "colab": {
          "base_uri": "https://localhost:8080/"
        },
        "id": "_Niiwtw9P78v",
        "outputId": "90de970b-16cd-4019-8964-bb05b6cc33f9"
      },
      "outputs": [],
      "source": [
        "df = pd.DataFrame.from_dict(articles)"
      ]
    },
    {
      "cell_type": "code",
      "execution_count": 8,
      "metadata": {},
      "outputs": [
        {
          "data": {
            "text/html": [
              "<div>\n",
              "<style scoped>\n",
              "    .dataframe tbody tr th:only-of-type {\n",
              "        vertical-align: middle;\n",
              "    }\n",
              "\n",
              "    .dataframe tbody tr th {\n",
              "        vertical-align: top;\n",
              "    }\n",
              "\n",
              "    .dataframe thead th {\n",
              "        text-align: right;\n",
              "    }\n",
              "</style>\n",
              "<table border=\"1\" class=\"dataframe\">\n",
              "  <thead>\n",
              "    <tr style=\"text-align: right;\">\n",
              "      <th></th>\n",
              "      <th>categories</th>\n",
              "      <th>title</th>\n",
              "      <th>body</th>\n",
              "      <th>tags</th>\n",
              "    </tr>\n",
              "  </thead>\n",
              "  <tbody>\n",
              "    <tr>\n",
              "      <th>0</th>\n",
              "      <td>[Athletes]</td>\n",
              "      <td>\\n  SERGHEI SPIVAC IS ALL FOCUS\\n\\n</td>\n",
              "      <td>\\n \\nThe 28-year-old “Polar Bear” from Moldova...</td>\n",
              "      <td>[]</td>\n",
              "    </tr>\n",
              "    <tr>\n",
              "      <th>1</th>\n",
              "      <td>[Dana White's Contender Series]</td>\n",
              "      <td>\\n  Week 4 Preview | Dana White's Contender Se...</td>\n",
              "      <td>\\n \\nLast week marked the first episode of the...</td>\n",
              "      <td>[\\n\\n          card preview\\n        \\n]</td>\n",
              "    </tr>\n",
              "    <tr>\n",
              "      <th>2</th>\n",
              "      <td>[Fight Coverage]</td>\n",
              "      <td>\\n  Fight by Fight Preview | UFC Fight Night: ...</td>\n",
              "      <td>\\n \\nSimilar to last September, French heavywe...</td>\n",
              "      <td>[\\n\\n          UFC Paris\\n        \\n, \\n\\n    ...</td>\n",
              "    </tr>\n",
              "    <tr>\n",
              "      <th>3</th>\n",
              "      <td>[Results]</td>\n",
              "      <td>\\n  Road To UFC Final Results &amp; Scorecards | S...</td>\n",
              "      <td>\\n \\nHere's how it all went down Sunday mornin...</td>\n",
              "      <td>[\\n\\n          Road To UFC\\n        \\n, \\n\\n  ...</td>\n",
              "    </tr>\n",
              "    <tr>\n",
              "      <th>4</th>\n",
              "      <td>[Road To UFC]</td>\n",
              "      <td>\\n  Updates To Road To UFC Season 2 \\n\\n</td>\n",
              "      <td>\\n \\nHaraguchi will now fight Jae Hyun Park in...</td>\n",
              "      <td>[\\n\\n          Road To UFC\\n        \\n]</td>\n",
              "    </tr>\n",
              "  </tbody>\n",
              "</table>\n",
              "</div>"
            ],
            "text/plain": [
              "                        categories  \\\n",
              "0                       [Athletes]   \n",
              "1  [Dana White's Contender Series]   \n",
              "2                 [Fight Coverage]   \n",
              "3                        [Results]   \n",
              "4                    [Road To UFC]   \n",
              "\n",
              "                                               title  \\\n",
              "0                \\n  SERGHEI SPIVAC IS ALL FOCUS\\n\\n   \n",
              "1  \\n  Week 4 Preview | Dana White's Contender Se...   \n",
              "2  \\n  Fight by Fight Preview | UFC Fight Night: ...   \n",
              "3  \\n  Road To UFC Final Results & Scorecards | S...   \n",
              "4           \\n  Updates To Road To UFC Season 2 \\n\\n   \n",
              "\n",
              "                                                body  \\\n",
              "0  \\n \\nThe 28-year-old “Polar Bear” from Moldova...   \n",
              "1  \\n \\nLast week marked the first episode of the...   \n",
              "2  \\n \\nSimilar to last September, French heavywe...   \n",
              "3  \\n \\nHere's how it all went down Sunday mornin...   \n",
              "4  \\n \\nHaraguchi will now fight Jae Hyun Park in...   \n",
              "\n",
              "                                                tags  \n",
              "0                                                 []  \n",
              "1           [\\n\\n          card preview\\n        \\n]  \n",
              "2  [\\n\\n          UFC Paris\\n        \\n, \\n\\n    ...  \n",
              "3  [\\n\\n          Road To UFC\\n        \\n, \\n\\n  ...  \n",
              "4            [\\n\\n          Road To UFC\\n        \\n]  "
            ]
          },
          "execution_count": 8,
          "metadata": {},
          "output_type": "execute_result"
        }
      ],
      "source": [
        "# No character encoding issues seen in the texts\n",
        "df.head()"
      ]
    },
    {
      "cell_type": "code",
      "execution_count": 9,
      "metadata": {},
      "outputs": [],
      "source": [
        "# remove escape sequences, strip leading and trailing whitespaces\n",
        "def escape_n_strip(s):\n",
        "  escapes = '\\b\\n\\r\\t\\\\' \n",
        "  for c in escapes: \n",
        "    s = s.replace(c, ' ')\n",
        "  return s.strip()\n",
        "\n",
        "# shrink large whitespaces into one\n",
        "def shrink_space(s):\n",
        "  return re.sub('\\s+', ' ', s)\n",
        "\n",
        "# find more unwanted non alphanumeric characters\n",
        "def find_impurities(s):\n",
        "  aliens = set()\n",
        "  for c in s:\n",
        "    if not c.isalnum() and c not in string.punctuation:\n",
        "      aliens.add(c)\n",
        "  return aliens\n",
        "\n",
        "# remove numbers\n",
        "def remove_numbers(s):\n",
        "  return re.sub('\\d+', ' ', s)\n",
        "\n",
        "# remove words in list 'r' from string 's' \n",
        "def remove_words(s, r):\n",
        "  words = s.split(\" \")\n",
        "  words = list( filter(lambda x: False if x in r else True, words) )\n",
        "  return \" \".join(words)"
      ]
    },
    {
      "cell_type": "code",
      "execution_count": 10,
      "metadata": {},
      "outputs": [
        {
          "data": {
            "text/plain": [
              "Index(['categories', 'title', 'body', 'tags'], dtype='object')"
            ]
          },
          "execution_count": 10,
          "metadata": {},
          "output_type": "execute_result"
        }
      ],
      "source": [
        "df.columns"
      ]
    },
    {
      "cell_type": "code",
      "execution_count": 11,
      "metadata": {},
      "outputs": [
        {
          "name": "stdout",
          "output_type": "stream",
          "text": [
            "<class 'pandas.core.frame.DataFrame'>\n",
            "RangeIndex: 200 entries, 0 to 199\n",
            "Data columns (total 4 columns):\n",
            " #   Column      Non-Null Count  Dtype \n",
            "---  ------      --------------  ----- \n",
            " 0   categories  200 non-null    object\n",
            " 1   title       200 non-null    object\n",
            " 2   body        200 non-null    object\n",
            " 3   tags        200 non-null    object\n",
            "dtypes: object(4)\n",
            "memory usage: 6.4+ KB\n"
          ]
        }
      ],
      "source": [
        "df.info()"
      ]
    },
    {
      "cell_type": "code",
      "execution_count": 12,
      "metadata": {},
      "outputs": [],
      "source": [
        "# remove escape characters\n",
        "\n",
        "# text categories\n",
        "for col in ['title', 'body']:\n",
        "  df[col] = df[col].apply(escape_n_strip)\n",
        "  df[col] = df[col].apply(shrink_space)\n",
        "\n",
        "# list categories\n",
        "for col in ['categories', 'tags']:\n",
        "  newlist = []\n",
        "  for vals in df[col]:\n",
        "    nvals = []\n",
        "    for v in vals:\n",
        "      nvals.append( shrink_space( escape_n_strip(v) ) )\n",
        "    newlist.append(nvals)\n",
        "  df[col] = newlist"
      ]
    },
    {
      "cell_type": "code",
      "execution_count": 14,
      "metadata": {},
      "outputs": [
        {
          "data": {
            "text/plain": [
              "'!\"#$%&\\'()*+,-./:;<=>?@[\\\\]^_`{|}~'"
            ]
          },
          "execution_count": 14,
          "metadata": {},
          "output_type": "execute_result"
        }
      ],
      "source": [
        "string.punctuation"
      ]
    },
    {
      "cell_type": "code",
      "execution_count": 15,
      "metadata": {},
      "outputs": [
        {
          "data": {
            "text/plain": [
              "['–',\n",
              " '‘',\n",
              " '’',\n",
              " '🇫',\n",
              " '”',\n",
              " '️',\n",
              " '🏴',\n",
              " '£',\n",
              " '☠',\n",
              " '😳',\n",
              " '—',\n",
              " '\\u200b',\n",
              " '\\u200d',\n",
              " '🇷',\n",
              " '💥',\n",
              " '®',\n",
              " '…',\n",
              " '“']"
            ]
          },
          "execution_count": 15,
          "metadata": {},
          "output_type": "execute_result"
        }
      ],
      "source": [
        "# find other strange characters\n",
        "\n",
        "strangers = df['body'].apply(find_impurities).to_list()\n",
        "strangers = list(set().union(*strangers))\n",
        "if ' ' in strangers:\n",
        "  strangers.remove(' ')\n",
        "strangers"
      ]
    },
    {
      "cell_type": "code",
      "execution_count": 16,
      "metadata": {},
      "outputs": [
        {
          "data": {
            "text/plain": [
              "'!|\"|\\\\#|\\\\$|%|\\\\&|\\'|\\\\(|\\\\)|\\\\*|\\\\+|,|\\\\-|\\\\.|/|:|;|<|=|>|\\\\?|@|\\\\[|\\\\\\\\|\\\\]|\\\\^|_|`|\\\\{|\\\\||\\\\}|\\\\~|–|‘|’|🇫|”|️|🏴|£|☠|😳|—|\\u200b|\\u200d|🇷|💥|®|…|“'"
            ]
          },
          "execution_count": 16,
          "metadata": {},
          "output_type": "execute_result"
        }
      ],
      "source": [
        "# pattern for all punctuations to remove\n",
        "\n",
        "punctuations =  \"|\".join([re.escape(sym) for sym in list(string.punctuation) + strangers])\n",
        "punctuations"
      ]
    },
    {
      "cell_type": "code",
      "execution_count": 17,
      "metadata": {},
      "outputs": [],
      "source": [
        "df['body'] = df['body'].apply(lambda s: re.sub(punctuations, ' ', s))\n",
        "df['body'] = df['body'].apply(shrink_space)"
      ]
    },
    {
      "cell_type": "code",
      "execution_count": 18,
      "metadata": {},
      "outputs": [],
      "source": [
        "# remove numbers\n",
        "\n",
        "df['body'] = df['body'].apply(remove_numbers)\n",
        "df['body'] = df['body'].apply(shrink_space)"
      ]
    },
    {
      "cell_type": "code",
      "execution_count": 19,
      "metadata": {},
      "outputs": [],
      "source": [
        "# lower case\n",
        "\n",
        "df['body'] = df['body'].apply(lambda x: x.lower())"
      ]
    },
    {
      "cell_type": "code",
      "execution_count": 20,
      "metadata": {},
      "outputs": [],
      "source": [
        "# remove stopwords\n",
        "\n",
        "eng_stops = nltk.corpus.stopwords.words('english')\n",
        "df['body'] = df['body'].apply(lambda x: remove_words(x, eng_stops))\n",
        "df['body'] = df['body'].apply(shrink_space)"
      ]
    },
    {
      "cell_type": "code",
      "execution_count": 21,
      "metadata": {},
      "outputs": [],
      "source": [
        "# lemmatization\n",
        "\n",
        "lemmatizer = nltk.stem.WordNetLemmatizer()\n",
        "df['body'] = df['body'].apply( lambda x: \" \".join([lemmatizer.lemmatize(c) for c in x.split(\" \")]) )"
      ]
    },
    {
      "cell_type": "code",
      "execution_count": 27,
      "metadata": {},
      "outputs": [
        {
          "data": {
            "text/html": [
              "<div>\n",
              "<style scoped>\n",
              "    .dataframe tbody tr th:only-of-type {\n",
              "        vertical-align: middle;\n",
              "    }\n",
              "\n",
              "    .dataframe tbody tr th {\n",
              "        vertical-align: top;\n",
              "    }\n",
              "\n",
              "    .dataframe thead th {\n",
              "        text-align: right;\n",
              "    }\n",
              "</style>\n",
              "<table border=\"1\" class=\"dataframe\">\n",
              "  <thead>\n",
              "    <tr style=\"text-align: right;\">\n",
              "      <th></th>\n",
              "      <th>categories</th>\n",
              "      <th>title</th>\n",
              "      <th>body</th>\n",
              "      <th>tags</th>\n",
              "    </tr>\n",
              "  </thead>\n",
              "  <tbody>\n",
              "    <tr>\n",
              "      <th>0</th>\n",
              "      <td>[Athletes]</td>\n",
              "      <td>SERGHEI SPIVAC IS ALL FOCUS</td>\n",
              "      <td>year old polar bear moldova dropped two first ...</td>\n",
              "      <td>[]</td>\n",
              "    </tr>\n",
              "    <tr>\n",
              "      <th>1</th>\n",
              "      <td>[Dana White's Contender Series]</td>\n",
              "      <td>Week 4 Preview | Dana White's Contender Series...</td>\n",
              "      <td>last week marked first episode season four fig...</td>\n",
              "      <td>[card preview]</td>\n",
              "    </tr>\n",
              "    <tr>\n",
              "      <th>2</th>\n",
              "      <td>[Fight Coverage]</td>\n",
              "      <td>Fight by Fight Preview | UFC Fight Night: Gane...</td>\n",
              "      <td>similar last september french heavyweight ciry...</td>\n",
              "      <td>[UFC Paris, Ciryl Gane, Serghei Spivac, Manon ...</td>\n",
              "    </tr>\n",
              "    <tr>\n",
              "      <th>3</th>\n",
              "      <td>[Results]</td>\n",
              "      <td>Road To UFC Final Results &amp; Scorecards | Seaso...</td>\n",
              "      <td>went sunday morning watch ufc fight pas watch ...</td>\n",
              "      <td>[Road To UFC, results, scorecards]</td>\n",
              "    </tr>\n",
              "    <tr>\n",
              "      <th>4</th>\n",
              "      <td>[Road To UFC]</td>\n",
              "      <td>Updates To Road To UFC Season 2</td>\n",
              "      <td>haraguchi fight jae hyun park tomorrow road uf...</td>\n",
              "      <td>[Road To UFC]</td>\n",
              "    </tr>\n",
              "  </tbody>\n",
              "</table>\n",
              "</div>"
            ],
            "text/plain": [
              "                        categories  \\\n",
              "0                       [Athletes]   \n",
              "1  [Dana White's Contender Series]   \n",
              "2                 [Fight Coverage]   \n",
              "3                        [Results]   \n",
              "4                    [Road To UFC]   \n",
              "\n",
              "                                               title  \\\n",
              "0                        SERGHEI SPIVAC IS ALL FOCUS   \n",
              "1  Week 4 Preview | Dana White's Contender Series...   \n",
              "2  Fight by Fight Preview | UFC Fight Night: Gane...   \n",
              "3  Road To UFC Final Results & Scorecards | Seaso...   \n",
              "4                    Updates To Road To UFC Season 2   \n",
              "\n",
              "                                                body  \\\n",
              "0  year old polar bear moldova dropped two first ...   \n",
              "1  last week marked first episode season four fig...   \n",
              "2  similar last september french heavyweight ciry...   \n",
              "3  went sunday morning watch ufc fight pas watch ...   \n",
              "4  haraguchi fight jae hyun park tomorrow road uf...   \n",
              "\n",
              "                                                tags  \n",
              "0                                                 []  \n",
              "1                                     [card preview]  \n",
              "2  [UFC Paris, Ciryl Gane, Serghei Spivac, Manon ...  \n",
              "3                 [Road To UFC, results, scorecards]  \n",
              "4                                      [Road To UFC]  "
            ]
          },
          "execution_count": 27,
          "metadata": {},
          "output_type": "execute_result"
        }
      ],
      "source": [
        "df.head()"
      ]
    },
    {
      "cell_type": "markdown",
      "metadata": {},
      "source": [
        "## View clean text & save"
      ]
    },
    {
      "cell_type": "code",
      "execution_count": 22,
      "metadata": {},
      "outputs": [
        {
          "data": {
            "text/plain": [
              "'went sunday morning watch ufc fight pas watch road ufc country road ufc official result nyamjargal tumendemberel defeat peter danesoe submission rear naked choke round rei tsuruya defeat mark climaco unanimous decision yizha defeat sangwon kim unanimous decision jiniushiyue defeat seung guk choi unanimous decision kaiwen defeat koya kanda unanimous decision xiao long defeat shuya kamikubo majority decision rongzhu defeat sang uk kim unanimous decision changho lee defeat daermisi zhawupasi tko ro'"
            ]
          },
          "execution_count": 22,
          "metadata": {},
          "output_type": "execute_result"
        }
      ],
      "source": [
        "df.iloc[3, 2][:500]"
      ]
    },
    {
      "cell_type": "code",
      "execution_count": 23,
      "metadata": {},
      "outputs": [
        {
          "data": {
            "text/plain": [
              "{'Announcements',\n",
              " 'Athletes',\n",
              " 'Community',\n",
              " \"Dana White's Contender Series\",\n",
              " 'Embedded',\n",
              " 'Fight Coverage',\n",
              " 'Power Slap',\n",
              " 'Press Conference',\n",
              " 'Rankings',\n",
              " 'Results',\n",
              " 'Road To UFC',\n",
              " 'Scorecards',\n",
              " 'Special Feature',\n",
              " 'The Ultimate Fighter',\n",
              " 'UFC 30th Anniversary',\n",
              " 'UFC Fight Pass',\n",
              " 'UFC Unfiltered',\n",
              " 'Watch UFC',\n",
              " 'Weigh-in'}"
            ]
          },
          "execution_count": 23,
          "metadata": {},
          "output_type": "execute_result"
        }
      ],
      "source": [
        "catlist = df.categories.to_list()\n",
        "unq_cats = set()\n",
        "for c in catlist:\n",
        "  for c1 in c:\n",
        "    unq_cats.add(c1)\n",
        "unq_cats"
      ]
    },
    {
      "cell_type": "code",
      "execution_count": 24,
      "metadata": {},
      "outputs": [
        {
          "data": {
            "text/plain": [
              "array(['SERGHEI SPIVAC IS ALL FOCUS',\n",
              "       \"Week 4 Preview | Dana White's Contender Series Season 7\",\n",
              "       'Fight by Fight Preview | UFC Fight Night: Gane vs Spivac',\n",
              "       'Road To UFC Final Results & Scorecards | Season 2 Semi-Finals',\n",
              "       'Updates To Road To UFC Season 2',\n",
              "       'Weigh-In Results | Road To UFC Asia: Episodes 5 & 6',\n",
              "       'Anthony Smith Enjoys Getting Out Of His Comfort Zone',\n",
              "       'Fight By Fight Preview | UFC Fight Night: Holloway vs The Korean Zombie',\n",
              "       'September Episodes Dana White’s Contender Series Fights Revealed',\n",
              "       'Waldo Cortes Acosta: ‘I’m Ready To Put Him Away’',\n",
              "       'Rinya Nakamura Believes His Rise Has Only Begun',\n",
              "       'Victoria Anthony Looks To Capitalize On Rare Opportunity | UFC FIGHT PASS',\n",
              "       'Weigh-In Results & Faceoffs | UFC Fight Night: Holloway vs The Korean Zombie',\n",
              "       'A Consistent Ryan Spann Is A Dangerous Ryan Spann',\n",
              "       'JJ Aldrich Is A Dream Chaser',\n",
              "       'Erin Blanchfield Expects Excellence',\n",
              "       'UFC UNFILTERED | Tatiana Suarez, UFC Fight Night: Holloway vs The Korean Zombie Preview',\n",
              "       'Alex Caceres Just Wants To Express Himself',\n",
              "       'Giga Chikadze: ‘He’s Never Fought Somebody Like Me’',\n",
              "       'How To Watch Road To UFC Season 2',\n",
              "       'Last Time In Singapore | UFC 30th Anniversary',\n",
              "       'Taila Santos Returns To Remove All Doubts',\n",
              "       \"Where We Stand: Women's Strawweight Division | August 2023\",\n",
              "       'Conflicted Holloway Returns to Singapore, Aiming to Become Undeniable',\n",
              "       'Garrett Armfield Made It Because He Never Quit',\n",
              "       \"Billy Goff: 'It's Go Big Or Go Home'\",\n",
              "       'Official Scorecards | UFC Fight Night: Holloway vs The Korean Zombie',\n",
              "       \"Season 7 Week 3 Results & Scorecards | Dana White's Contender Series\",\n",
              "       'UFC Fight Night: Holloway vs The Korean Zombie Results',\n",
              "       'UFC Rankings Report | Week Of August 22, 2023',\n",
              "       'Where We Stand: Bantamweight Division | August 2023',\n",
              "       'Fighters On The Rise | UFC Fight Night: Holloway vs The Korean Zombie',\n",
              "       \"Parker Porter's Story Is Far From Finished\",\n",
              "       'FERNIE GARCIA OUT TO PROVE HE BELONGS',\n",
              "       \"The Scorecard | UFC 292: Sterling vs O'Malley\",\n",
              "       'Sean O’Malley Career Highlights: Rise To The Title',\n",
              "       'Career Highlights | Aljamain Sterling',\n",
              "       'Understanding UFC Weight Classes',\n",
              "       'UFC Bantamweight Title Lineage', 'UFC Strawweight Title Lineage',\n",
              "       \"Week 3 Preview | Dana White's Contender Series Season 7\",\n",
              "       \"Weigh-In Results | Dana White's Contender Series, Season 7\",\n",
              "       'Bonus Coverage | UFC Fight Night: Holloway vs The Korean Zombie',\n",
              "       'The Korean Zombie | Fab Five',\n",
              "       \"Dana White Talks O'Malley, Sterling And What's Next At Bantamweight\",\n",
              "       \"Official Scorecards | UFC 292: Sterling vs O'Malley\",\n",
              "       \"UFC 292: Sterling vs O'Malley Results\",\n",
              "       'UFC 292 Embedded | All Episodes',\n",
              "       'Austin Hubbard Is Ready For Round Two',\n",
              "       'Marlon Vera Ready For \"Something Beautiful\"',\n",
              "       'Natalia Silva | Fighting With Joy', 'Welcome Back Chris Weidman',\n",
              "       'No Holding Back For Andrea Lee',\n",
              "       'UFC’s Second Fight Night In France Adds Final Fights',\n",
              "       'Ian Machado Garry: ‘Just Sit Back And Watch’',\n",
              "       'Gerald Meerschaert Remains Motivated To Be The Best',\n",
              "       'Amanda Lemos Wants To Make History',\n",
              "       'Pedro Munhoz: ‘This Is My Last Run For The Title’',\n",
              "       'Mario Bautista Remains Classy Throughout The Journey',\n",
              "       \"Weigh-In Results & Faceoffs | UFC 292 Sterling vs O'Malley\",\n",
              "       'Gregory Rodrigues Rejuvenated His Love For The Sport',\n",
              "       'RAFAEL FIZIEV AND MATUESZ GAMROT HEADLINE UFC APEX SEPTEMBER 23',\n",
              "       'Neil Magny Plans To Humble Ian Machado Garry',\n",
              "       'Naked & Afraid Star Lives For MMA',\n",
              "       \"Sean O'Malley Shines When The Lights Are Brightest\",\n",
              "       'Zhang Weili: Rising From Adversity And Finding Peace In The Octagon',\n",
              "       \"Significant Stats | UFC 292: Sterling vs O'Malley\",\n",
              "       'Last Time In Boston | UFC 30th Anniversary',\n",
              "       \"Public Events Schedule | UFC 292: Sterling vs O'Malley\",\n",
              "       'Five Amanda Lemos Fights To Watch Before UFC 292',\n",
              "       'Episode 12 Recap | The Ultimate Fighter Season 31',\n",
              "       \"Fight By Fight Preview | UFC 292: Sterling vs O'Malley\",\n",
              "       'Five Zhang Weili Fights To Watch Before UFC 292',\n",
              "       \"Season 7 Week 2 Results & Scorecards | Dana White's Contender Series\",\n",
              "       'UFC ATHLETES BRANDON MORENO AND YAIR RODRIGUEZ HONORED BY NEVADA LATINO LEGISLATIVE CAUCUS',\n",
              "       'UFC Rankings Report | Week Of August 15, 2023',\n",
              "       \"Updates To UFC 292: Sterling vs O'Malley\",\n",
              "       'Big Month For Bantamweights Reaches Peak At UFC 292',\n",
              "       \"Fighters On The Rise | UFC 292: Sterling vs O'Malley\",\n",
              "       'UFC 292 Coach Conversation | Zhang Weili vs Amanda Lemos',\n",
              "       \"Coach Conversation | Aljamain Sterling vs Sean O'Malley\",\n",
              "       'Aljamain Sterling Chasing All-Time Status at UFC 292',\n",
              "       \"Week 2 Preview | Dana White's Contender Series Season 7\",\n",
              "       'Official Scorecards | UFC Fight Night: Luque vs Dos Anjos',\n",
              "       'UFC Fight Night: Luque vs Dos Anjos Results',\n",
              "       'Josh Parisian Overcame Obstacles',\n",
              "       'Francis Marshall Seeks Redemption Following First Professional Loss',\n",
              "       'Dana White Announces São Paulo As Host For November 4 Event',\n",
              "       'Iasmin Lucindo | A New Dark Horse At Strawweight?',\n",
              "       'Juliana Miller Has A Point To Prove',\n",
              "       'Josh Fremd Blocks Out The Noise',\n",
              "       'Vicente Luque Is Rested, Recharged And Motivated',\n",
              "       'Hakeem Dawodu: \"I Feel Like It\\'s My Time\"',\n",
              "       'Isaac Dulgarian Knows How To Flip The Switch',\n",
              "       'Weigh-In Results & Faceoffs | UFC Fight Night: Luque vs Dos Anjos',\n",
              "       'Rafael Dos Anjos: ‘I Don’t Feel This Fight Is Going Five Rounds’',\n",
              "       'Mike Breeden Is Rolling With The Punches',\n",
              "       'Chris Daukaus Starts A New Chapter At Light Heavyweight',\n",
              "       'Vicente Luque Career Highlights',\n",
              "       'Khalil Rountree Jr: The Journey Begins',\n",
              "       'Power Slap 4: Hintz vs Turpin Final Results',\n",
              "       'FEATHERWEIGHT LEGENDS HEADLINE UFC RETURN TO SINGAPORE FOR AN ASIA PRIME TIME SHOWDOWN',\n",
              "       'Five Rafael Dos Anjos Fights To Watch Before UFC Fight Night: Luque vs Dos Anjos',\n",
              "       'Cub Swanson Still Loves This Game After All These Years',\n",
              "       'Five Vicente Luque Fights To Watch Before UFC Fight Night: Luque vs Dos Anjos',\n",
              "       'The Start Of Something Great For Marcus McGhee',\n",
              "       \"How To Watch UFC 292: Sterling vs O'Malley\",\n",
              "       'Dana White Talks Conor McGregor, Nate Diaz At DWCS Presser',\n",
              "       'Episode 11 Recap | The Ultimate Fighter Season 31',\n",
              "       \"Season 7 Week 1 Results | Dana White's Contender Series\",\n",
              "       'Dana White Announces Main Event For UFC 293 In Sydney',\n",
              "       'Main Event Spotlight | Power Slap 4: Hintz vs Turpin',\n",
              "       'UFC Rankings Report | Week Of August 8, 2023',\n",
              "       'Match By Match Preview | Power Slap 4: Hintz vs Turpin',\n",
              "       'Updates To UFC Fight Night: Luque vs Dos Anjos',\n",
              "       'Fighters On The Rise | UFC Fight Night: Luque vs Dos Anjos',\n",
              "       'Fight By Fight Preview | UFC Fight Night: Luque vs Dos Anjos',\n",
              "       \"How To Watch Dana White's Contender Series | Season 7\",\n",
              "       'Power Slap 4 Official Weigh-In Results',\n",
              "       'UFC ANNOUNCES ETM GROUP AS THE OFFICIAL UK HOME FOR UFC VIEWING PARTIES FOR 2023',\n",
              "       \"Week 1 Preview | Dana White's Contender Series Season 7\",\n",
              "       'Official Scorecards | UFC Fight Night: Sandhagen vs Font',\n",
              "       'UFC Fight Night: Sandhagen vs Font Results',\n",
              "       \"Ode' Osbourne Dreams Big\",\n",
              "       'Ignacio Bahamondes Is In Prime Position',\n",
              "       'Gavin Tucker Isn’t Here To Make Decisions',\n",
              "       'Sean Woodson Is Back To Being Himself',\n",
              "       'Damon Jackson Lives The Fight Life',\n",
              "       'Jeremiah Wells’ Chance To Make A Powerful Statement',\n",
              "       'Raoni Barcelos: ‘I Hope My Opponent Is Ready’',\n",
              "       'Ludovit Klein: ‘I Know That I’m A Better Fighter’',\n",
              "       'Billy Quarantillo Is Never Down And Out',\n",
              "       'Weigh-In Results | UFC Fight Night: Sandhagen vs Font',\n",
              "       'Cory Sandhagen: “I’m One Of The Best To Do It”',\n",
              "       'Kyler Phillips Has No Regrets',\n",
              "       'Dustin Jacoby: \"I\\'m From The Old School\"',\n",
              "       'Jessica Andrade No Stranger To Making UFC History',\n",
              "       'Kennedy Nzechukwu Levelling Up with Added Experience',\n",
              "       'Dennis Buzukja Welcomes UFC Competition',\n",
              "       'Rob Font Sees A Clear Path To A UFC Title',\n",
              "       'Michael Chandler Visits Tennessee Titans Training Camp',\n",
              "       'No Shortage Of Confidence For Jake Hadley',\n",
              "       'UFC Rankings Report | Week Of August 1, 2023',\n",
              "       'Updates To UFC Fight Night: Sandhagen vs Font',\n",
              "       'Nominees unveiled for the 15th Annual Fighters Only World MMA Awards',\n",
              "       'The 10: August Offers Plenty of Action',\n",
              "       'Episode 10 Recap | The Ultimate Fighter Season 31',\n",
              "       'Where We Stand: Lightweight Division | August 2023',\n",
              "       'UFC NAMES ANTHEM SNACKS OFFICIAL MARKETING PARTNER',\n",
              "       'Fighters On The Rise | UFC Fight Night: Sandhagen vs Font',\n",
              "       'POWER SLAP 4 SCHEDULED FOR WEDNESDAY AUGUST 9',\n",
              "       'The Scorecard | UFC 291: Poirier vs Gaethje 2',\n",
              "       'Fight By Fight Preview | UFC Fight Night: Sandhagen vs Font',\n",
              "       'UFC Monthly Report | July 2023',\n",
              "       'Kevin Holland Always Keeps It Real',\n",
              "       \"Matthew Semelsberger And The ‘F*** It' Mentality\",\n",
              "       'CJ Vergara Wants To Show A New Level Of Maturity',\n",
              "       'UFC 291 Embedded | All Episodes',\n",
              "       'Tony Ferguson Is Ready To Bounce Back',\n",
              "       'Weigh-In Results | UFC 291: Poirier vs Gaethje 2',\n",
              "       'Never Count Out Darrius Flowers',\n",
              "       'Roobet.fun Named Official Social Casino Of UFC',\n",
              "       'Technique A Must, Carnage A Given For Justin Gaethje',\n",
              "       'Derrick Lewis Always Believes In His Power',\n",
              "       'Jake Matthews Just Wants To Put It Together On Fight Night',\n",
              "       'Stephen Thompson: How To Achieve Longevity In MMA',\n",
              "       'Official Scorecards | UFC 291: Poirier vs Gaethje 2',\n",
              "       'UFC 291: Poirier vs Gaethje 2 Results',\n",
              "       'Significant Stats | UFC 291: Poirier vs Gaethje 2',\n",
              "       'Five Justin Gaethje Fights To Watch Before UFC 291',\n",
              "       'Five Dustin Poirier Fights To Watch Before UFC 291',\n",
              "       'Jan Błachowicz Welcomes New, Yet Familiar Challenge',\n",
              "       \"Michael Chiesa Is 'Obsessed' With The Sport Of MMA\",\n",
              "       'Foxtel Group Becomes Exclusive Provider Of UFC Pay Per View Events In Australia',\n",
              "       'Episode 9 Recap | The Ultimate Fighter Season 31',\n",
              "       'UFC Rankings Report | Week Of July 25, 2023',\n",
              "       'Alex Pereira Focused on Light Heavyweight, But Unfinished Business Remains',\n",
              "       'Last Time In Salt Lake City | UFC 30th Anniversary',\n",
              "       'Fighters On The Rise | UFC 291: Poirier vs Gaethje 2',\n",
              "       'Dustin Poirier - Built Different',\n",
              "       'Public Events Schedule | UFC 291: Poirier vs Gaethje 2',\n",
              "       'How To Build The Perfect Card | UFC Matchmaker Sweepstakes',\n",
              "       'Coach Conversation - Dustin Poirier vs Justin Gaethje 2',\n",
              "       'Fight By Fight Preview | UFC 291: Poirier vs Gaethje 2',\n",
              "       'UFC Partners With The Just One Project As Part Of Its Youth Summer Camp',\n",
              "       'UFC Fight Night: Aspinall vs Tybura Results',\n",
              "       'Official Scorecards | UFC Fight Night: Aspinall vs Tybura',\n",
              "       'Updates To UFC 291 And UFC Fight Night: Sandhagen vs Font',\n",
              "       'Jamal Pogues Has Already Won',\n",
              "       \"It's Finally Time For Jonny Parsons To Make The Walk\",\n",
              "       'UFC Raises More Than $130,500 For The UFC Foundation During International Fight Week',\n",
              "       'UFC Visits Make-A-Wish Of Southern Nevada As Part Of Annual UFC International Fight Week Community Day',\n",
              "       'UFC Welterweight Phil Rowe Focuses On His Dedication To Youth And Education Outside Of The Octagon',\n",
              "       'Nathaniel Wood Welcomes The Pressure',\n",
              "       'Paul Craig Feels Revitalized Ahead Of Middleweight Debut',\n",
              "       'Weigh-In Results | UFC Fight Night: Aspinall vs Tybura',\n",
              "       'UFC Announces Updates To Upcoming Events',\n",
              "       'Lerone Murphy Has Unfinished Business',\n",
              "       'UFC Rankings Report | Week of July 18, 2023',\n",
              "       'Flyweight Championship Rematch Between Alexa Grasso And Valentinca Shevchenko Headlines Inaugural Noche UFC Event'],\n",
              "      dtype=object)"
            ]
          },
          "execution_count": 24,
          "metadata": {},
          "output_type": "execute_result"
        }
      ],
      "source": [
        "df.title.unique()"
      ]
    },
    {
      "cell_type": "code",
      "execution_count": 25,
      "metadata": {},
      "outputs": [
        {
          "data": {
            "text/plain": [
              "{'Alex Pereira',\n",
              " 'Alexa Grasso',\n",
              " 'Alexandre Pantoja',\n",
              " 'Aljamain Sterling',\n",
              " 'Amanda Lemos',\n",
              " 'Andrea Lee',\n",
              " 'Austin Hubbard',\n",
              " 'BMF Belt',\n",
              " 'Bantamweight Title',\n",
              " 'Billy Quarantillo',\n",
              " 'Boston',\n",
              " 'Brad Tavares',\n",
              " 'CJ Vergara',\n",
              " 'Ceremonial Weigh-Ins',\n",
              " 'Chan Sung Jung',\n",
              " 'Chris Daukaus',\n",
              " 'Chris Weidman',\n",
              " 'Ciryl Gane',\n",
              " 'Cody Garbrandt',\n",
              " 'Cory Sandhagen',\n",
              " 'Cub Swanson',\n",
              " 'Dana White',\n",
              " \"Dana White's Contender Series\",\n",
              " 'Dana White’s Tuesday Night Contender Series',\n",
              " 'Dominick Cuz',\n",
              " 'Dustin Jacoby',\n",
              " 'Dustin Poirier',\n",
              " 'Embedded',\n",
              " 'Fight By Fight',\n",
              " 'Fight of the Night',\n",
              " 'Gabriel Bonfim',\n",
              " 'Gerald Meerschaert',\n",
              " 'Glover Teixeira',\n",
              " 'Heavyweight',\n",
              " 'Henry Cejudo',\n",
              " 'How to watch',\n",
              " 'Ian Garry',\n",
              " 'Ignacio Bahamondes',\n",
              " 'Jan Blachowicz',\n",
              " 'Jeremiah Wells',\n",
              " 'Jessica Andrade',\n",
              " 'Jim Norton',\n",
              " 'Jiri Prochazka',\n",
              " 'Jose Aldo',\n",
              " 'Josh Parisian',\n",
              " 'Justin Gaethje',\n",
              " 'Kelvin Gastelum',\n",
              " 'Kennedy Nzechukwu',\n",
              " 'Kevin Holland',\n",
              " 'Korean Zombie',\n",
              " 'Kyler Phillips',\n",
              " 'Las Vegas',\n",
              " 'Leon Edwards',\n",
              " 'Light Heavyweight',\n",
              " 'Lightweight',\n",
              " 'Live Results',\n",
              " 'Live Weigh-Ins',\n",
              " 'Manon Fiorot',\n",
              " 'Marcin Tybura',\n",
              " 'Marlon Vera',\n",
              " 'Matt Serra',\n",
              " 'Max Holloway',\n",
              " 'Mayra Bueno Silva',\n",
              " 'Michel Pereira',\n",
              " 'Middleweight',\n",
              " 'Mike Breeden',\n",
              " 'Natália Silva',\n",
              " 'Ode Osbourne',\n",
              " 'Official Weigh-In',\n",
              " 'Parker Porter',\n",
              " 'Paul Craig',\n",
              " 'Paulo Costa',\n",
              " 'Pedro Munhoz',\n",
              " 'Performance of the Night',\n",
              " 'Petr Yan',\n",
              " 'Phil Rowe',\n",
              " 'Podcast',\n",
              " 'Power Slap',\n",
              " 'Press Conference',\n",
              " 'Q&A',\n",
              " 'Rafael Dos Anjos',\n",
              " 'Rankings Report',\n",
              " 'Raoni Barcelos',\n",
              " 'Road To UFC',\n",
              " 'Rob Font',\n",
              " 'Rose Namajunas',\n",
              " 'Sao Paulo',\n",
              " \"Sean O'Malley\",\n",
              " 'Serghei Spivac',\n",
              " 'Shavkat Rakhmonov',\n",
              " 'Singapore',\n",
              " 'Stephen Thompson',\n",
              " 'Sweepstakes',\n",
              " 'T.J. Dillashaw',\n",
              " 'TUF 31',\n",
              " 'Taila Santos',\n",
              " 'The Ultimate Fighter',\n",
              " 'Tom Aspinall',\n",
              " 'Top Bantamweights',\n",
              " 'UFC 275',\n",
              " 'UFC 278',\n",
              " 'UFC 291',\n",
              " 'UFC 292',\n",
              " 'UFC 293',\n",
              " 'UFC Apex',\n",
              " 'UFC Community',\n",
              " 'UFC FIGHT PASS',\n",
              " 'UFC IN THE COMMUNITY',\n",
              " 'UFC London',\n",
              " 'UFC Nashville',\n",
              " 'UFC Paris',\n",
              " 'UFC Singapore',\n",
              " 'UFC Vegas 78',\n",
              " \"UFC Women's Strawweight Champion\",\n",
              " 'Unfiltered',\n",
              " 'Uros Medic',\n",
              " 'Valentina Shevchenko',\n",
              " 'Vicente Luque',\n",
              " \"Women's flyweight\",\n",
              " \"Women's strawweight\",\n",
              " 'Zhang Weili',\n",
              " 'alex caceres',\n",
              " 'bantamweight',\n",
              " 'bantamweight champion',\n",
              " 'bonus',\n",
              " 'card preview',\n",
              " 'china',\n",
              " 'featherweight',\n",
              " 'fight results',\n",
              " 'flyweight',\n",
              " 'judges scorecards',\n",
              " 'matchmaker',\n",
              " 'nashville',\n",
              " 'neil magny',\n",
              " 'official scorecards',\n",
              " 'post-fight bonus',\n",
              " 'rankings',\n",
              " 'results',\n",
              " 'scorecards',\n",
              " 'strawweight',\n",
              " 'weigh-ins',\n",
              " 'welterweight',\n",
              " 'winners'}"
            ]
          },
          "execution_count": 25,
          "metadata": {},
          "output_type": "execute_result"
        }
      ],
      "source": [
        "taglist = df.tags.to_list()\n",
        "unq_tags = set()\n",
        "for t in taglist:\n",
        "  for t1 in t:\n",
        "    unq_tags.add(t1)\n",
        "unq_tags"
      ]
    },
    {
      "cell_type": "code",
      "execution_count": 26,
      "metadata": {},
      "outputs": [],
      "source": [
        "df.to_csv('../../datasets/ufc_trends.csv', index=False)"
      ]
    }
  ],
  "metadata": {
    "colab": {
      "provenance": []
    },
    "kernelspec": {
      "display_name": "Python 3",
      "name": "python3"
    },
    "language_info": {
      "codemirror_mode": {
        "name": "ipython",
        "version": 3
      },
      "file_extension": ".py",
      "mimetype": "text/x-python",
      "name": "python",
      "nbconvert_exporter": "python",
      "pygments_lexer": "ipython3",
      "version": "3.10.12"
    }
  },
  "nbformat": 4,
  "nbformat_minor": 0
}
