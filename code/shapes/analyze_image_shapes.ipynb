{
 "cells": [
  {
   "cell_type": "markdown",
   "metadata": {},
   "source": [
    "# Convolutional neural network for image classification"
   ]
  },
  {
   "cell_type": "code",
   "execution_count": 19,
   "metadata": {},
   "outputs": [],
   "source": [
    "import torch\n",
    "import torch.nn as nn\n",
    "from torch.utils.data import Dataset, DataLoader\n",
    "\n",
    "import numpy as np\n",
    "import pickle\n",
    "from sklearn.model_selection import train_test_split"
   ]
  },
  {
   "cell_type": "markdown",
   "metadata": {},
   "source": [
    "## Load data"
   ]
  },
  {
   "cell_type": "code",
   "execution_count": 20,
   "metadata": {},
   "outputs": [],
   "source": [
    "main_path = \"../../datasets/shapes/tensors.pt\"\n",
    "tensor_file = open(main_path, \"rb+\")\n",
    "all_tensors = pickle.load(tensor_file)"
   ]
  },
  {
   "cell_type": "code",
   "execution_count": 21,
   "metadata": {},
   "outputs": [
    {
     "name": "stdout",
     "output_type": "stream",
     "text": [
      "torch.Size([1200, 1, 200, 200])\n"
     ]
    }
   ],
   "source": [
    "print(all_tensors['square'].shape)"
   ]
  },
  {
   "cell_type": "code",
   "execution_count": 22,
   "metadata": {},
   "outputs": [],
   "source": [
    "# label data by the shapes\n",
    "X_ci, Y_ci = all_tensors['circle'], np.zeros(len(all_tensors['circle']))\n",
    "X_sq, Y_sq = all_tensors['square'], np.ones(len(all_tensors['square']))\n",
    "X_st, Y_st = all_tensors['star'], np.full((len(all_tensors['star']),), 2)\n",
    "X_tr, Y_tr = all_tensors['triangle'], np.full((len(all_tensors['triangle']),), 3)\n",
    "\n",
    "# split train and test data across all shapes for proportionate class distribution\n",
    "X_ci_train, X_ci_test, Y_ci_train, Y_ci_test = train_test_split(X_ci, Y_ci, test_size=0.25)\n",
    "X_sq_train, X_sq_test, Y_sq_train, Y_sq_test = train_test_split(X_sq, Y_sq, test_size=0.25)\n",
    "X_st_train, X_st_test, Y_st_train, Y_st_test = train_test_split(X_st, Y_st, test_size=0.25)\n",
    "X_tr_train, X_tr_test, Y_tr_train, Y_tr_test = train_test_split(X_tr, Y_tr, test_size=0.25)\n",
    "\n",
    "X_train = torch.cat((X_ci_train, X_sq_train, X_st_train, X_tr_train), dim=0)\n",
    "Y_train = np.concatenate((Y_ci_train, Y_sq_train, Y_st_train, Y_tr_train))\n",
    "X_test = torch.cat((X_ci_test, X_sq_test, X_st_test, X_tr_test), dim=0)\n",
    "Y_test = np.concatenate((Y_ci_test, Y_sq_test, Y_st_test, Y_tr_test))\n",
    "\n",
    "# converting to tensors\n",
    "Y_train = torch.from_numpy(Y_train).type(\"torch.FloatTensor\")\n",
    "Y_test = torch.from_numpy(Y_test).type(\"torch.FloatTensor\")"
   ]
  },
  {
   "cell_type": "code",
   "execution_count": 23,
   "metadata": {},
   "outputs": [
    {
     "name": "stdout",
     "output_type": "stream",
     "text": [
      "torch.Size([3600, 1, 200, 200]) torch.Size([3600]) torch.float32\n"
     ]
    }
   ],
   "source": [
    "print(X_train.shape, Y_train.shape, X_train.dtype)"
   ]
  },
  {
   "cell_type": "code",
   "execution_count": 24,
   "metadata": {},
   "outputs": [],
   "source": [
    "# custom dataset class to make use of Dataset and DataLoader modules\n",
    "class CustomDataset(Dataset):\n",
    "\n",
    "  def __init__(self, features: torch.Tensor, labels: torch.Tensor):\n",
    "    super(CustomDataset, self).__init__()\n",
    "    self._features = features\n",
    "    self._labels = labels\n",
    "\n",
    "  def __len__(self):\n",
    "    return self._labels.shape[0]\n",
    "  \n",
    "  def __getitem__(self, idx):\n",
    "    return self._features[idx], self._labels[idx]"
   ]
  },
  {
   "cell_type": "code",
   "execution_count": 25,
   "metadata": {},
   "outputs": [],
   "source": [
    "train_data = CustomDataset(X_train, Y_train)\n",
    "test_data = CustomDataset(X_test, Y_test)"
   ]
  },
  {
   "cell_type": "code",
   "execution_count": 26,
   "metadata": {},
   "outputs": [
    {
     "name": "stdout",
     "output_type": "stream",
     "text": [
      "Shape of X [N, C, H, W]: torch.Size([50, 1, 200, 200]) torch.float32\n",
      "Shape of y: torch.Size([50]) torch.float32\n"
     ]
    }
   ],
   "source": [
    "# data loaders\n",
    "\n",
    "batch_size = 50\n",
    "train_dataloader = DataLoader(train_data, shuffle=True, batch_size=batch_size)\n",
    "test_dataloader = DataLoader(test_data, batch_size=batch_size)\n",
    "for X, y in train_dataloader:\n",
    "  print(f\"Shape of X [N, C, H, W]: {X.shape} {X.dtype}\")\n",
    "  print(f\"Shape of y: {y.shape} {y.dtype}\")\n",
    "  break"
   ]
  },
  {
   "cell_type": "markdown",
   "metadata": {},
   "source": [
    "## Model"
   ]
  },
  {
   "cell_type": "code",
   "execution_count": 27,
   "metadata": {},
   "outputs": [
    {
     "name": "stdout",
     "output_type": "stream",
     "text": [
      "Using cpu device\n"
     ]
    }
   ],
   "source": [
    "# We want to be able to train our model on a hardware accelerator like the GPU or MPS, if available. Let’s check to see if torch.cuda or torch.backends.mps are available, otherwise we use the CPU.\n",
    "\n",
    "device = (\n",
    "  \"cuda\"\n",
    "  if torch.cuda.is_available()\n",
    "  else \"mps\"\n",
    "  if torch.backends.mps.is_available()\n",
    "  else \"cpu\"\n",
    ")\n",
    "print(f\"Using {device} device\")"
   ]
  },
  {
   "cell_type": "code",
   "execution_count": 28,
   "metadata": {},
   "outputs": [],
   "source": [
    "# Convolutional neural network as a shape classification model\n",
    "class ShapeClassifier(nn.Module):\n",
    "\n",
    "\t# constructor\n",
    "\tdef __init__(self, numChannels, classes):\n",
    "\t\tsuper(ShapeClassifier, self).__init__()\n",
    "\t\t# initialize first set of CONV => RELU => POOL layers\n",
    "\t\tself.conv1 = nn.Conv2d(in_channels=numChannels, out_channels=4, kernel_size=(6, 6), stride=(2, 2))\n",
    "\t\tself.relu1 = nn.ReLU()\n",
    "\t\tself.maxpool1 = nn.MaxPool2d(kernel_size=(4, 4), stride=(2, 2))\n",
    "\t\t# initialize second set of CONV => RELU => POOL layers\n",
    "\t\tself.conv2 = nn.Conv2d(in_channels=4, out_channels=8, kernel_size=(6, 6), stride=(2, 2))\n",
    "\t\tself.relu2 = nn.ReLU()\n",
    "\t\tself.maxpool2 = nn.MaxPool2d(kernel_size=(4, 4), stride=(2, 2))\n",
    "\t\t# initialize first (and only) set of FC => RELU layers\n",
    "\t\tself.fc1 = nn.Linear(in_features=800, out_features=400)\n",
    "\t\tself.relu3 = nn.ReLU()\n",
    "\t\t# initialize our softmax classifier\n",
    "\t\tself.fc2 = nn.Linear(in_features=400, out_features=classes)\n",
    "\t\tself.logSoftmax = nn.LogSoftmax(dim=1)\n",
    "\n",
    "\t# connect layers and generate output\n",
    "\tdef forward(self, x):\n",
    "\t\t# pass the input through our first set of convolution -> activation -> pooling layers\n",
    "\t\tx = self.conv1(x)\n",
    "\t\tx = self.relu1(x)\n",
    "\t\tx = self.maxpool1(x)\n",
    "\t\t# pass the output from the previous layer through the second set of convolution -> activation -> pooling layers\n",
    "\t\tx = self.conv2(x)\n",
    "\t\tx = self.relu2(x)\n",
    "\t\tx = self.maxpool2(x)\n",
    "\t\t# flatten the output from the previous layer and pass it through our only set of fully connected -> activation layers\n",
    "\t\tx = torch.flatten(x, 1)\n",
    "\t\tx = self.fc1(x)\n",
    "\t\tx = self.relu3(x)\n",
    "\t\t# pass the output to our softmax classifier to get our output predictions\n",
    "\t\tx = self.fc2(x)\n",
    "\t\toutput = self.logSoftmax(x)\n",
    "\t\treturn output"
   ]
  },
  {
   "cell_type": "code",
   "execution_count": 29,
   "metadata": {},
   "outputs": [
    {
     "data": {
      "text/plain": [
       "ShapeClassifier(\n",
       "  (conv1): Conv2d(1, 4, kernel_size=(6, 6), stride=(2, 2))\n",
       "  (relu1): ReLU()\n",
       "  (maxpool1): MaxPool2d(kernel_size=(4, 4), stride=(2, 2), padding=0, dilation=1, ceil_mode=False)\n",
       "  (conv2): Conv2d(4, 8, kernel_size=(6, 6), stride=(2, 2))\n",
       "  (relu2): ReLU()\n",
       "  (maxpool2): MaxPool2d(kernel_size=(4, 4), stride=(2, 2), padding=0, dilation=1, ceil_mode=False)\n",
       "  (fc1): Linear(in_features=800, out_features=400, bias=True)\n",
       "  (relu3): ReLU()\n",
       "  (fc2): Linear(in_features=400, out_features=4, bias=True)\n",
       "  (logSoftmax): LogSoftmax(dim=1)\n",
       ")"
      ]
     },
     "execution_count": 29,
     "metadata": {},
     "output_type": "execute_result"
    }
   ],
   "source": [
    "# model\n",
    "\n",
    "model = ShapeClassifier(numChannels=1, classes=4).to(device)\n",
    "model"
   ]
  },
  {
   "cell_type": "markdown",
   "metadata": {},
   "source": [
    "## Model evaluation"
   ]
  },
  {
   "cell_type": "code",
   "execution_count": 30,
   "metadata": {},
   "outputs": [],
   "source": [
    "# train model\n",
    "def train(model, loss_fn, optimizer, train_dataloader):\n",
    "\n",
    "  model.train()\n",
    "  size = len(train_dataloader.dataset)\n",
    "  for batch, (X, Y) in enumerate(train_dataloader):\n",
    "    X, Y = X.to(device), Y.to(device)\n",
    "    pred = model(X)\n",
    "    loss = loss_fn(pred, Y.long())\n",
    "\n",
    "    optimizer.zero_grad() # zero out the gradients\n",
    "    loss.backward() # Backpropagation\n",
    "    optimizer.step() # update weights\n",
    "    \n",
    "    if batch % 10 == 0:\n",
    "      loss, current = loss.item(), (batch + 1) * len(X)\n",
    "      print(f\"loss: {loss:>.5f}  [{current:>4d}/{size:>4d}]\")\n",
    "\n",
    "\n",
    "# test model\n",
    "def test(model, loss_fn, test_dataloader):\n",
    "\n",
    "  model.eval()\n",
    "  size = len(test_dataloader.dataset)\n",
    "  num_batches = len(test_dataloader)\n",
    "  test_loss, correct = 0, 0\n",
    "\n",
    "  with torch.no_grad(): # turn off gradient tracking and computation\n",
    "    for X, Y in test_dataloader:\n",
    "      X, Y = X.to(device), Y.to(device)    \n",
    "      pred = model(X)\n",
    "      test_loss += loss_fn(pred, Y.long()).item()\n",
    "      correct += (pred.argmax(dim=1) == Y).type(torch.float).sum().item()\n",
    "\n",
    "  test_loss /= num_batches\n",
    "  correct /= size\n",
    "  print(f\"Test Error: \\n Accuracy: {(100*correct):>0.3f}%, Avg loss: {test_loss:>7f}\\n\")"
   ]
  },
  {
   "cell_type": "code",
   "execution_count": 31,
   "metadata": {},
   "outputs": [
    {
     "name": "stdout",
     "output_type": "stream",
     "text": [
      "Epoch 1\n",
      "-------------------------------\n",
      "loss: 12.93164  [  50/3600]\n",
      "loss: 1.33714  [ 550/3600]\n",
      "loss: 0.30539  [1050/3600]\n",
      "loss: 0.06219  [1550/3600]\n",
      "loss: 0.03156  [2050/3600]\n",
      "loss: 0.03578  [2550/3600]\n",
      "loss: 0.01651  [3050/3600]\n",
      "loss: 0.08980  [3550/3600]\n",
      "Test Error: \n",
      " Accuracy: 99.333%, Avg loss: 0.026253\n",
      "\n",
      "Epoch 2\n",
      "-------------------------------\n",
      "loss: 0.02189  [  50/3600]\n",
      "loss: 0.00784  [ 550/3600]\n",
      "loss: 0.01912  [1050/3600]\n",
      "loss: 0.01318  [1550/3600]\n",
      "loss: 0.01179  [2050/3600]\n",
      "loss: 0.00667  [2550/3600]\n",
      "loss: 0.00473  [3050/3600]\n",
      "loss: 0.02122  [3550/3600]\n",
      "Test Error: \n",
      " Accuracy: 99.500%, Avg loss: 0.017533\n",
      "\n",
      "Epoch 3\n",
      "-------------------------------\n",
      "loss: 0.00552  [  50/3600]\n",
      "loss: 0.00324  [ 550/3600]\n",
      "loss: 0.00671  [1050/3600]\n",
      "loss: 0.00320  [1550/3600]\n",
      "loss: 0.02184  [2050/3600]\n",
      "loss: 0.01116  [2550/3600]\n",
      "loss: 0.00525  [3050/3600]\n",
      "loss: 0.00697  [3550/3600]\n",
      "Test Error: \n",
      " Accuracy: 99.750%, Avg loss: 0.010301\n",
      "\n",
      "Epoch 4\n",
      "-------------------------------\n",
      "loss: 0.00362  [  50/3600]\n",
      "loss: 0.00548  [ 550/3600]\n",
      "loss: 0.00252  [1050/3600]\n",
      "loss: 0.00495  [1550/3600]\n",
      "loss: 0.00433  [2050/3600]\n",
      "loss: 0.00655  [2550/3600]\n",
      "loss: 0.00212  [3050/3600]\n",
      "loss: 0.00323  [3550/3600]\n",
      "Test Error: \n",
      " Accuracy: 99.917%, Avg loss: 0.006131\n",
      "\n",
      "Epoch 5\n",
      "-------------------------------\n",
      "loss: 0.00308  [  50/3600]\n",
      "loss: 0.00832  [ 550/3600]\n",
      "loss: 0.00141  [1050/3600]\n",
      "loss: 0.00120  [1550/3600]\n",
      "loss: 0.00194  [2050/3600]\n",
      "loss: 0.00388  [2550/3600]\n",
      "loss: 0.00099  [3050/3600]\n",
      "loss: 0.00432  [3550/3600]\n",
      "Test Error: \n",
      " Accuracy: 100.000%, Avg loss: 0.004259\n",
      "\n",
      "Done!\n"
     ]
    }
   ],
   "source": [
    "# initialize optimizer and loss function\n",
    "optimizer = torch.optim.Adam(model.parameters(), lr=1e-4)\n",
    "loss_fn = nn.NLLLoss()\n",
    "\n",
    "epochs = 5\n",
    "for e in range(epochs):\n",
    "  print(f\"Epoch {e+1}\\n-------------------------------\")\n",
    "  train(model, loss_fn, optimizer, train_dataloader)\n",
    "  test(model, loss_fn, test_dataloader)\n",
    "print(\"Done!\")"
   ]
  }
 ],
 "metadata": {
  "kernelspec": {
   "display_name": "Python 3",
   "language": "python",
   "name": "python3"
  },
  "language_info": {
   "codemirror_mode": {
    "name": "ipython",
    "version": 3
   },
   "file_extension": ".py",
   "mimetype": "text/x-python",
   "name": "python",
   "nbconvert_exporter": "python",
   "pygments_lexer": "ipython3",
   "version": "3.10.12"
  },
  "orig_nbformat": 4
 },
 "nbformat": 4,
 "nbformat_minor": 2
}
