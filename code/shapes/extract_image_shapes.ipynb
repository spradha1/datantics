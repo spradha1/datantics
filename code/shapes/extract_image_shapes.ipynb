{
 "cells": [
  {
   "cell_type": "markdown",
   "metadata": {},
   "source": [
    "# Extract tensors from image files\n",
    "\n",
    "The image files come from a dataset in [Kaggle](https://www.kaggle.com/datasets/smeschke/four-shapes?resource=download&select=process_data.py)."
   ]
  },
  {
   "cell_type": "code",
   "execution_count": 4,
   "metadata": {},
   "outputs": [],
   "source": [
    "import torchvision as tv\n",
    "import torch\n",
    "\n",
    "import os\n",
    "import pickle"
   ]
  },
  {
   "cell_type": "markdown",
   "metadata": {},
   "source": [
    "## Data preprocessing"
   ]
  },
  {
   "cell_type": "code",
   "execution_count": 5,
   "metadata": {},
   "outputs": [
    {
     "name": "stdout",
     "output_type": "stream",
     "text": [
      "torch.Size([1, 200, 200])\n"
     ]
    },
    {
     "data": {
      "text/plain": [
       "torch.float32"
      ]
     },
     "execution_count": 5,
     "metadata": {},
     "output_type": "execute_result"
    }
   ],
   "source": [
    "# read png image files as tensors\n",
    "\n",
    "image_folders = ['circle', 'square', 'star', 'triangle']\n",
    "main_path = \"../../datasets/shapes/\"\n",
    "tensors = dict()\n",
    "\n",
    "for f in image_folders:\n",
    "  img_files = os.listdir(f\"{main_path}{f}/\")\n",
    "  f_tensors = [tv.io.read_image(f\"{main_path}{f}/{img_file}\") for img_file in img_files[:1200]]\n",
    "  tensors[f] = torch.stack(f_tensors, dim=0).type(\"torch.FloatTensor\")\n",
    "\n",
    "print(tensors['circle'][0].shape)\n",
    "tensors['square'][0].dtype"
   ]
  },
  {
   "cell_type": "markdown",
   "metadata": {},
   "source": [
    "## Save tensors"
   ]
  },
  {
   "cell_type": "code",
   "execution_count": 6,
   "metadata": {},
   "outputs": [],
   "source": [
    "# save tensors to a file\n",
    "\n",
    "tensor_file = open(f\"{main_path}tensors.pt\", \"wb+\")\n",
    "pickle.dump(tensors, tensor_file)\n",
    "tensor_file.close()"
   ]
  }
 ],
 "metadata": {
  "kernelspec": {
   "display_name": "Python 3",
   "language": "python",
   "name": "python3"
  },
  "language_info": {
   "codemirror_mode": {
    "name": "ipython",
    "version": 3
   },
   "file_extension": ".py",
   "mimetype": "text/x-python",
   "name": "python",
   "nbconvert_exporter": "python",
   "pygments_lexer": "ipython3",
   "version": "3.10.12"
  },
  "orig_nbformat": 4
 },
 "nbformat": 4,
 "nbformat_minor": 2
}
