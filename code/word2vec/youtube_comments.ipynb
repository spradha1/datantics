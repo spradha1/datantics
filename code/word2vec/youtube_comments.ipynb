{
 "cells": [
  {
   "cell_type": "code",
   "execution_count": null,
   "metadata": {},
   "outputs": [],
   "source": [
    "import datasets\n",
    "import numpy as np\n",
    "import pandas as pd\n",
    "import matplotlib.pyplot as plt\n",
    "import seaborn as sns\n",
    "sns.set_style('dark', {'axes.grid' : False})\n",
    "\n",
    "\n",
    "DATA_SAMPLE_SIZE=7000 # grab 7000 docs\n",
    "\n",
    "# youtube comments dataset presumably\n",
    "_dataset = datasets.load_dataset(\"breadlicker45/youtube-comments-180k\")\n",
    "# grab part of dataset\n",
    "_dataset1 = _dataset['train'].shuffle(seed=18).select(range(DATA_SAMPLE_SIZE))\n",
    "_dataset1"
   ]
  },
  {
   "cell_type": "markdown",
   "metadata": {},
   "source": [
    "## Data"
   ]
  },
  {
   "cell_type": "code",
   "execution_count": 4,
   "metadata": {},
   "outputs": [],
   "source": [
    "import re\n",
    "from nltk.corpus import stopwords\n",
    "from nltk.stem.snowball import SnowballStemmer"
   ]
  },
  {
   "cell_type": "code",
   "execution_count": 5,
   "metadata": {},
   "outputs": [
    {
     "name": "stderr",
     "output_type": "stream",
     "text": [
      "Parameter 'function'=<function tokenize at 0x7f73810a8ee0> of the transform datasets.arrow_dataset.Dataset._map_single couldn't be hashed properly, a random hash was used instead. Make sure your transforms and parameters are serializable with pickle or dill for the dataset fingerprinting and caching to work. If you reuse this transform, the caching mechanism will consider it to be different from the previous calls and recompute everything. This warning is only showed once. Subsequent hashing failures won't be showed.\n",
      "Map: 100%|██████████| 7000/7000 [00:04<00:00, 1417.84 examples/s]\n"
     ]
    }
   ],
   "source": [
    "''' \n",
    "Tokenization\n",
    "  Lowercase everything\n",
    "  Remove all symbols other than a-z.\n",
    "  Split on spaces\n",
    "  Remove stopwords/empty tokens\n",
    "  Apply snowball stemmer to remainder\n",
    "'''\n",
    "\n",
    "def tokenize(doc):\n",
    "  stemmer = SnowballStemmer('english')\n",
    "  _stopwords = stopwords.words('english')\n",
    "  doc['all_tokens'] = [stemmer.stem(i) for i in re.split( r\" +\", re.sub(r\"[^a-z ]\", \"\", doc['text'].lower()) ) if (i not in _stopwords) and len(i)]\n",
    "  return doc\n",
    "\n",
    "_dataset1 = _dataset1.map(tokenize)"
   ]
  },
  {
   "cell_type": "code",
   "execution_count": 6,
   "metadata": {},
   "outputs": [
    {
     "data": {
      "text/plain": [
       "Dataset({\n",
       "    features: ['text', 'all_tokens'],\n",
       "    num_rows: 7000\n",
       "})"
      ]
     },
     "execution_count": 6,
     "metadata": {},
     "output_type": "execute_result"
    }
   ],
   "source": [
    "_dataset1"
   ]
  },
  {
   "cell_type": "code",
   "execution_count": 7,
   "metadata": {},
   "outputs": [
    {
     "data": {
      "text/plain": [
       "'You should do a video on how sudden immersion in hot or cold water can give you transient amnesia.'"
      ]
     },
     "execution_count": 7,
     "metadata": {},
     "output_type": "execute_result"
    }
   ],
   "source": [
    "_dataset1['text'][12]"
   ]
  },
  {
   "cell_type": "code",
   "execution_count": 8,
   "metadata": {},
   "outputs": [
    {
     "data": {
      "text/plain": [
       "['video',\n",
       " 'sudden',\n",
       " 'immers',\n",
       " 'hot',\n",
       " 'cold',\n",
       " 'water',\n",
       " 'give',\n",
       " 'transient',\n",
       " 'amnesia']"
      ]
     },
     "execution_count": 8,
     "metadata": {},
     "output_type": "execute_result"
    }
   ],
   "source": [
    "_dataset1['all_tokens'][12]"
   ]
  },
  {
   "cell_type": "markdown",
   "metadata": {},
   "source": [
    "## Word2vec"
   ]
  },
  {
   "cell_type": "code",
   "execution_count": 9,
   "metadata": {},
   "outputs": [
    {
     "name": "stdout",
     "output_type": "stream",
     "text": [
      "Vocab size: 1651\n"
     ]
    }
   ],
   "source": [
    "from collections import Counter\n",
    "\n",
    "\n",
    "# shrinking our vocab by selecting only words frequent by at least 10 times\n",
    "counts = Counter([i for s in _dataset1['all_tokens'] for i in s])\n",
    "counts = {k:v for k, v in counts.items() if v>10}\n",
    "\n",
    "# vocabulary\n",
    "vocab = list(counts.keys())\n",
    "print(f\"Vocab size: {len(vocab)}\")"
   ]
  },
  {
   "cell_type": "code",
   "execution_count": 10,
   "metadata": {},
   "outputs": [],
   "source": [
    "# dictionaries\n",
    "\n",
    "id2tok = dict(enumerate(vocab))\n",
    "tok2id = {token: id for id, token in id2tok.items()}"
   ]
  },
  {
   "cell_type": "code",
   "execution_count": 11,
   "metadata": {},
   "outputs": [
    {
     "name": "stderr",
     "output_type": "stream",
     "text": [
      "Map: 100%|██████████| 7000/7000 [00:02<00:00, 2772.00 examples/s]\n"
     ]
    }
   ],
   "source": [
    "# new attribute with only frequent tokens\n",
    "\n",
    "def only_freq_tokens(doc, _vocab):\n",
    "  doc['tokens'] = [t for t in doc['all_tokens'] if t in _vocab]\n",
    "  return doc\n",
    "\n",
    "_dataset1 = _dataset1.map(only_freq_tokens, fn_kwargs={\"_vocab\": vocab})"
   ]
  },
  {
   "cell_type": "code",
   "execution_count": 12,
   "metadata": {},
   "outputs": [
    {
     "data": {
      "text/plain": [
       "['video', 'sudden', 'hot', 'cold', 'water', 'give']"
      ]
     },
     "execution_count": 12,
     "metadata": {},
     "output_type": "execute_result"
    }
   ],
   "source": [
    "_dataset1['tokens'][12]"
   ]
  },
  {
   "cell_type": "code",
   "execution_count": 14,
   "metadata": {},
   "outputs": [
    {
     "name": "stderr",
     "output_type": "stream",
     "text": [
      "Map:   0%|          | 0/7000 [00:00<?, ? examples/s]"
     ]
    },
    {
     "name": "stderr",
     "output_type": "stream",
     "text": [
      "Map: 100%|██████████| 7000/7000 [00:01<00:00, 5864.31 examples/s]\n"
     ]
    }
   ],
   "source": [
    "'''\n",
    "  contruct data pairs with context word and target word for a given number of context words on each side of the target word\n",
    "  possible for use for both CBOW & Skip gram models\n",
    "'''\n",
    "\n",
    "def prepare_data(doc, token_to_id, clen=1):\n",
    "\n",
    "  tokens = doc['tokens']\n",
    "  windows = []\n",
    "\n",
    "  for i, wd in enumerate(tokens):\n",
    "    target = token_to_id[wd]\n",
    "    contexts = [i+j for j in range(-clen, clen+1, 1) if (i+j>=0) & (i+j<len(tokens)) & (j!=0)]\n",
    "    windows += ([(token_to_id[tokens[wi]], target) for wi in contexts])\n",
    "    \n",
    "  doc['data'] = windows\n",
    "  return doc\n",
    "\n",
    "_dataset1 = _dataset1.map(prepare_data, fn_kwargs={\"token_to_id\":tok2id})"
   ]
  },
  {
   "cell_type": "code",
   "execution_count": 15,
   "metadata": {},
   "outputs": [
    {
     "data": {
      "text/plain": [
       "[[102, 101],\n",
       " [101, 102],\n",
       " [103, 102],\n",
       " [102, 103],\n",
       " [104, 103],\n",
       " [103, 104],\n",
       " [105, 104],\n",
       " [104, 105],\n",
       " [106, 105],\n",
       " [105, 106]]"
      ]
     },
     "execution_count": 15,
     "metadata": {},
     "output_type": "execute_result"
    }
   ],
   "source": [
    "_dataset1['data'][12]"
   ]
  },
  {
   "cell_type": "code",
   "execution_count": 16,
   "metadata": {},
   "outputs": [],
   "source": [
    "import torch\n",
    "from torch import nn\n",
    "from torch.utils.data import Dataset, DataLoader\n",
    "\n",
    "\n",
    "# custom dataset class for convenience\n",
    "class Word2VecDataset(Dataset):\n",
    "  \n",
    "  # Takes a HuggingFace dataset as an input, to be used for a Word2Vec dataloader\n",
    "  def __init__(self, dataset, vocab_size):\n",
    "    self.dataset = dataset\n",
    "    self.vocab_size = vocab_size\n",
    "    self.contexts = torch.tensor([ctx for ctxs in dataset['data'] for ctx, _ in ctxs])\n",
    "    self.targets = torch.tensor([tgt for tgts in dataset['data'] for _, tgt in tgts])\n",
    "\n",
    "  def __len__(self):\n",
    "    return len(self.contexts)\n",
    "  \n",
    "  def __getitem__(self, idx):\n",
    "    return self.contexts[idx], self.targets[idx]"
   ]
  },
  {
   "cell_type": "markdown",
   "metadata": {},
   "source": [
    "## Model"
   ]
  },
  {
   "cell_type": "code",
   "execution_count": 17,
   "metadata": {},
   "outputs": [
    {
     "name": "stdout",
     "output_type": "stream",
     "text": [
      "141274\n",
      "context: tensor([ 383,  718, 1289, 1401,  423,  402,  234, 1026,  873,  319,  483,  594,\n",
      "         423,  339,  512,  328,  244, 1084,  507,  145,  585,  120, 1283,  369,\n",
      "         658,  850,  106,  180,  602,  112,  980, 1041]) torch.Size([32]) torch.int64\n",
      "target: tensor([1011,  149, 1285, 1009,  188,  395,  810,  233,  825, 1306,  595,  434,\n",
      "         254,  132,  265,   45, 1158,   34,  433,    4,   53,  459,  170, 1403,\n",
      "         886, 1318,  960,  174,   97,  596,  297,   34]) torch.Size([32]) torch.int64\n"
     ]
    }
   ],
   "source": [
    "# dataloader\n",
    "\n",
    "BATCH_SIZE = 2**5\n",
    "\n",
    "training_dataset = Word2VecDataset(dataset=_dataset1, vocab_size=len(vocab))\n",
    "training_dataloader = DataLoader(training_dataset, shuffle=True, batch_size=BATCH_SIZE)\n",
    "\n",
    "print(len(training_dataset.contexts))\n",
    "for c, t in training_dataloader:\n",
    "  print(f\"context: {c} {c.shape} {c.dtype}\")\n",
    "  print(f\"target: {t} {t.shape} {t.dtype}\")\n",
    "  break"
   ]
  },
  {
   "cell_type": "code",
   "execution_count": 18,
   "metadata": {},
   "outputs": [],
   "source": [
    "''' \n",
    "  Neural network with input, hidden, & output layer\n",
    "  works as CBOW & Skip-gram depending on training data\n",
    "'''\n",
    "\n",
    "class Word2Vec(torch.nn.Module):\n",
    "  \n",
    "  def __init__(self, input_layer_dim, hidden_layer_dim):\n",
    "    super().__init__()\n",
    "    # embedding layer allows us to omit manual conversion of our token ids into one-hot encoded vectors\n",
    "    self.layer1 = nn.Embedding(input_layer_dim, hidden_layer_dim)\n",
    "    self.layer2 = nn.Linear(hidden_layer_dim, input_layer_dim)\n",
    "    \n",
    "  def forward(self, inputs):\n",
    "    # Encode input to lower-dimensional representation\n",
    "    layer1_outs = self.layer1(inputs)\n",
    "    # Expand hidden layer to predictions\n",
    "    layer2_outs = self.layer2(layer1_outs)\n",
    "    return layer2_outs"
   ]
  },
  {
   "cell_type": "markdown",
   "metadata": {},
   "source": [
    "### Training"
   ]
  },
  {
   "cell_type": "code",
   "execution_count": 19,
   "metadata": {},
   "outputs": [],
   "source": [
    "# training function\n",
    "\n",
    "def train(model, loss_fn, optimizer, dataloader, epochs):\n",
    "\n",
    "  losses = []\n",
    "  for e in range(epochs):\n",
    "    model.train()\n",
    "    for context, target in dataloader:\n",
    "      preds = model(context)\n",
    "      loss = loss_fn(preds, target)\n",
    "      optimizer.zero_grad()\n",
    "      loss.backward()\n",
    "      optimizer.step()\n",
    "    print(f\"Epoch #{e+1}: loss={loss}\")\n",
    "    losses.append(loss.item())\n",
    "  \n",
    "  return losses"
   ]
  },
  {
   "cell_type": "code",
   "execution_count": 20,
   "metadata": {},
   "outputs": [
    {
     "data": {
      "text/plain": [
       "4415"
      ]
     },
     "execution_count": 20,
     "metadata": {},
     "output_type": "execute_result"
    }
   ],
   "source": [
    "len(training_dataloader)"
   ]
  },
  {
   "cell_type": "code",
   "execution_count": 21,
   "metadata": {},
   "outputs": [
    {
     "name": "stdout",
     "output_type": "stream",
     "text": [
      "Epoch #1: loss=7.442708492279053\n",
      "Epoch #2: loss=7.317708492279053\n",
      "Epoch #3: loss=7.127079486846924\n",
      "Epoch #4: loss=7.008585453033447\n",
      "Epoch #5: loss=6.968353271484375\n",
      "Epoch #6: loss=6.793277263641357\n",
      "Epoch #7: loss=6.954165935516357\n",
      "Epoch #8: loss=6.929793357849121\n",
      "Epoch #9: loss=6.623084545135498\n",
      "Epoch #10: loss=6.578116416931152\n"
     ]
    }
   ],
   "source": [
    "# Instantiate the model\n",
    "HIDDEN_LAYER_SIZE = 75\n",
    "model = Word2Vec(input_layer_dim=len(vocab), hidden_layer_dim=HIDDEN_LAYER_SIZE)\n",
    "\n",
    "# Define training parameters\n",
    "LR = 1e-4\n",
    "EPOCHS = 10\n",
    "loss_fn = nn.CrossEntropyLoss()\n",
    "optimizer = torch.optim.AdamW(params=model.parameters(), lr=LR)\n",
    "\n",
    "losses = train(model, loss_fn, optimizer, training_dataloader, EPOCHS)"
   ]
  },
  {
   "cell_type": "markdown",
   "metadata": {},
   "source": [
    "### Semantic progression"
   ]
  },
  {
   "cell_type": "code",
   "execution_count": 22,
   "metadata": {},
   "outputs": [
    {
     "data": {
      "text/plain": [
       "[('like', 1027),\n",
       " ('one', 663),\n",
       " ('would', 658),\n",
       " ('get', 653),\n",
       " ('peopl', 601),\n",
       " ('use', 565),\n",
       " ('game', 561),\n",
       " ('video', 560),\n",
       " ('dont', 539),\n",
       " ('make', 536)]"
      ]
     },
     "execution_count": 22,
     "metadata": {},
     "output_type": "execute_result"
    }
   ],
   "source": [
    "sorted(counts.items(), key=lambda x: -x[1])[:10]"
   ]
  },
  {
   "cell_type": "code",
   "execution_count": 23,
   "metadata": {},
   "outputs": [],
   "source": [
    "# check for the closest words in terms of the vectors\n",
    "\n",
    "from scipy.spatial import distance\n",
    "\n",
    "\n",
    "def get_distance_matrix(wordvecs, metric):\n",
    "  dist_matrix = distance.squareform(distance.pdist(wordvecs, metric))\n",
    "  return dist_matrix\n",
    "\n",
    "# obtain most similar words by word embeddings\n",
    "def get_k_similar_words(word, dist_matrix, id_to_token, token_to_id, k=7):\n",
    "  idx = token_to_id[word]\n",
    "  dists = dist_matrix[idx]\n",
    "  ids = np.argpartition(dists, k)[:k+1] # avoid sorting all the distances\n",
    "  ids = ids[np.argsort(dists[ids])][1:] # excluding match with itself\n",
    "  res = [(i, id_to_token[i], dists[i]) for i in ids]\n",
    "  return res"
   ]
  },
  {
   "cell_type": "code",
   "execution_count": 24,
   "metadata": {},
   "outputs": [
    {
     "name": "stdout",
     "output_type": "stream",
     "text": [
      "good [('make', 0.42), ('great', 0.458), ('like', 0.47), ('know', 0.486), ('see', 0.495), ('thing', 0.496), ('also', 0.496)]\n",
      "time [('see', 0.535), ('say', 0.583), ('last', 0.611), ('long', 0.615), ('thing', 0.618), ('know', 0.623), ('use', 0.64)]\n",
      "love [('way', 0.559), ('thank', 0.562), ('good', 0.57), ('great', 0.576), ('lex', 0.578), ('better', 0.58), ('need', 0.584)]\n",
      "watch [('done', 0.526), ('lex', 0.554), ('ive', 0.579), ('say', 0.601), ('next', 0.61), ('see', 0.626), ('find', 0.632)]\n",
      "podcast [('listen', 0.543), ('interview', 0.607), ('heard', 0.645), ('havent', 0.662), ('question', 0.666), ('final', 0.673), ('refer', 0.673)]\n"
     ]
    }
   ],
   "source": [
    "sample_tokens = ['good', 'time', 'love', 'watch', 'podcast']\n",
    "\n",
    "wordvecs = model.layer2.weight.cpu().detach().numpy()\n",
    "dmat = get_distance_matrix(wordvecs, 'cosine')\n",
    "for word in sample_tokens:\n",
    "  print(word, [(t[1], t[2].round(3)) for t in get_k_similar_words(word, dmat, id2tok, tok2id)])"
   ]
  },
  {
   "cell_type": "code",
   "execution_count": 25,
   "metadata": {},
   "outputs": [
    {
     "name": "stdout",
     "output_type": "stream",
     "text": [
      "Epoch #1: loss=6.764237403869629\n",
      "Epoch #2: loss=6.225449562072754\n",
      "Epoch #3: loss=6.461740493774414\n",
      "Epoch #4: loss=6.739405155181885\n",
      "Epoch #5: loss=6.003942012786865\n",
      "Epoch #6: loss=6.275568008422852\n",
      "Epoch #7: loss=6.771100997924805\n",
      "Epoch #8: loss=6.85062313079834\n",
      "Epoch #9: loss=6.500457763671875\n",
      "Epoch #10: loss=6.56160831451416\n",
      "Epoch #11: loss=6.37736177444458\n",
      "Epoch #12: loss=6.278547286987305\n",
      "Epoch #13: loss=6.324886798858643\n",
      "Epoch #14: loss=6.244394779205322\n",
      "Epoch #15: loss=6.7616167068481445\n",
      "Epoch #16: loss=6.421751976013184\n",
      "Epoch #17: loss=6.308559894561768\n",
      "Epoch #18: loss=6.192746162414551\n",
      "Epoch #19: loss=6.256975173950195\n",
      "Epoch #20: loss=6.32423210144043\n",
      "Epoch #21: loss=6.5580315589904785\n",
      "Epoch #22: loss=6.584868431091309\n",
      "Epoch #23: loss=6.076176643371582\n",
      "Epoch #24: loss=6.3468780517578125\n",
      "Epoch #25: loss=6.352540969848633\n",
      "Epoch #26: loss=5.95976448059082\n",
      "Epoch #27: loss=6.340043067932129\n",
      "Epoch #28: loss=5.975517272949219\n",
      "Epoch #29: loss=6.154322147369385\n",
      "Epoch #30: loss=6.366605281829834\n"
     ]
    }
   ],
   "source": [
    "# train for more epochs\n",
    "\n",
    "losses = train(model, loss_fn, optimizer, training_dataloader, 30)"
   ]
  },
  {
   "cell_type": "code",
   "execution_count": 26,
   "metadata": {},
   "outputs": [
    {
     "name": "stdout",
     "output_type": "stream",
     "text": [
      "good [('make', 0.398), ('great', 0.423), ('like', 0.433), ('realli', 0.473), ('know', 0.496), ('see', 0.51), ('think', 0.522)]\n",
      "time [('see', 0.536), ('thing', 0.541), ('one', 0.582), ('minut', 0.61), ('peopl', 0.62), ('long', 0.622), ('show', 0.629)]\n",
      "love [('thank', 0.507), ('lex', 0.525), ('good', 0.554), ('enjoy', 0.587), ('great', 0.587), ('way', 0.622), ('tom', 0.624)]\n",
      "watch [('listen', 0.59), ('see', 0.602), ('video', 0.615), ('ever', 0.621), ('riley', 0.627), ('good', 0.648), ('ive', 0.651)]\n",
      "podcast [('listen', 0.53), ('lex', 0.562), ('interview', 0.581), ('interest', 0.607), ('wow', 0.609), ('guest', 0.609), ('episod', 0.611)]\n"
     ]
    }
   ],
   "source": [
    "# train more to see better results\n",
    "\n",
    "weiter_wordvecs = model.layer2.weight.cpu().detach().numpy()\n",
    "weiter_dmat = get_distance_matrix(weiter_wordvecs, 'cosine')\n",
    "for word in sample_tokens:\n",
    "  print(word, [(t[1], t[2].round(3)) for t in get_k_similar_words(word, weiter_dmat, id2tok, tok2id)])"
   ]
  },
  {
   "cell_type": "markdown",
   "metadata": {},
   "source": [
    "## Experiment"
   ]
  },
  {
   "cell_type": "markdown",
   "metadata": {},
   "source": [
    "### Progression with dimension of hidden layer"
   ]
  },
  {
   "cell_type": "code",
   "execution_count": 31,
   "metadata": {},
   "outputs": [
    {
     "data": {
      "text/plain": [
       "Dataset({\n",
       "    features: ['text'],\n",
       "    num_rows: 2000\n",
       "})"
      ]
     },
     "execution_count": 31,
     "metadata": {},
     "output_type": "execute_result"
    }
   ],
   "source": [
    "data_sample_size = 2000\n",
    "_dataset2 = _dataset['train'].shuffle(seed=33).select(range(data_sample_size))\n",
    "_dataset2"
   ]
  },
  {
   "cell_type": "code",
   "execution_count": 32,
   "metadata": {},
   "outputs": [
    {
     "name": "stdout",
     "output_type": "stream",
     "text": [
      "666\n"
     ]
    }
   ],
   "source": [
    "_dataset2 = _dataset2.map(tokenize)\n",
    "\n",
    "counts2 = Counter([i for s in _dataset2['all_tokens'] for i in s])\n",
    "counts2 = {k:v for k, v in counts2.items() if v>10}\n",
    "vocab2 = list(counts2.keys())\n",
    "print(len(vocab2))\n",
    "\n",
    "id2tok2 = dict(enumerate(vocab2))\n",
    "tok2id2 = {token: id for id, token in id2tok2.items()}\n",
    "\n",
    "_dataset2 = _dataset2.map(only_freq_tokens, fn_kwargs={\"_vocab\": vocab2})\n",
    "_dataset2 = _dataset2.map(prepare_data, fn_kwargs={\"token_to_id\": tok2id2})"
   ]
  },
  {
   "cell_type": "code",
   "execution_count": 33,
   "metadata": {},
   "outputs": [
    {
     "name": "stdout",
     "output_type": "stream",
     "text": [
      "38228\n",
      "context: tensor([231, 272, 448, 108, 201, 370, 101,  87, 152, 119, 392,  49, 283, 569,\n",
      "        246, 234, 400,  18, 273,  18, 272,  35, 218, 233,  39, 384, 623,  40,\n",
      "         15, 272, 545,  29]) torch.Size([32]) torch.int64\n",
      "target: tensor([527, 293, 206, 145,   3, 121, 102, 571, 125, 423, 608,   6, 258, 272,\n",
      "        106, 281, 286, 104, 611, 427, 569, 240, 410,  36,  28, 486,  18,  29,\n",
      "        131, 569, 544,  76]) torch.Size([32]) torch.int64\n"
     ]
    }
   ],
   "source": [
    "batch_size2 = 2**5\n",
    "training_dataset2 = Word2VecDataset(dataset=_dataset2, vocab_size=len(vocab2))\n",
    "training_dataloader2 = DataLoader(training_dataset2, shuffle=True, batch_size=batch_size2)\n",
    "\n",
    "print(len(training_dataset2.contexts))\n",
    "for c, t in training_dataloader2:\n",
    "  print(f\"context: {c} {c.shape} {c.dtype}\")\n",
    "  print(f\"target: {t} {t.shape} {t.dtype}\")\n",
    "  break"
   ]
  },
  {
   "cell_type": "code",
   "execution_count": 34,
   "metadata": {},
   "outputs": [
    {
     "name": "stdout",
     "output_type": "stream",
     "text": [
      "Hidden layer dims: 10\n",
      "Epoch #1: loss=6.472251892089844\n",
      "Epoch #2: loss=5.967734336853027\n",
      "Epoch #3: loss=5.697275161743164\n",
      "Epoch #4: loss=6.114223003387451\n",
      "Epoch #5: loss=5.493648529052734\n",
      "Epoch #6: loss=5.946589469909668\n",
      "Epoch #7: loss=5.958173751831055\n",
      "Epoch #8: loss=6.04478120803833\n",
      "Epoch #9: loss=5.90346622467041\n",
      "Epoch #10: loss=5.984967231750488\n",
      "Epoch #11: loss=5.174130439758301\n",
      "Epoch #12: loss=5.547682762145996\n",
      "Epoch #13: loss=5.265565395355225\n",
      "Epoch #14: loss=5.6195597648620605\n",
      "Epoch #15: loss=5.413209438323975\n",
      "Epoch #16: loss=5.55916690826416\n",
      "Epoch #17: loss=6.105984687805176\n",
      "Epoch #18: loss=6.12661075592041\n",
      "Epoch #19: loss=5.022160053253174\n",
      "Epoch #20: loss=5.495583534240723\n",
      "-------------------------------\n",
      "Hidden layer dims: 29\n",
      "Epoch #1: loss=6.653031826019287\n",
      "Epoch #2: loss=5.5891242027282715\n",
      "Epoch #3: loss=5.4906110763549805\n",
      "Epoch #4: loss=6.024300575256348\n",
      "Epoch #5: loss=5.373116493225098\n",
      "Epoch #6: loss=5.7780351638793945\n",
      "Epoch #7: loss=5.671077728271484\n",
      "Epoch #8: loss=5.419534683227539\n",
      "Epoch #9: loss=5.6071577072143555\n",
      "Epoch #10: loss=5.3119707107543945\n",
      "Epoch #11: loss=5.7579731941223145\n",
      "Epoch #12: loss=5.98643159866333\n",
      "Epoch #13: loss=5.497478485107422\n",
      "Epoch #14: loss=5.2624831199646\n",
      "Epoch #15: loss=5.140974998474121\n",
      "Epoch #16: loss=5.383841514587402\n",
      "Epoch #17: loss=5.650074005126953\n",
      "Epoch #18: loss=5.365324020385742\n",
      "Epoch #19: loss=5.550743579864502\n",
      "Epoch #20: loss=5.8611931800842285\n",
      "-------------------------------\n",
      "Hidden layer dims: 48\n",
      "Epoch #1: loss=6.049795150756836\n",
      "Epoch #2: loss=6.304284572601318\n",
      "Epoch #3: loss=5.513257026672363\n",
      "Epoch #4: loss=5.5527544021606445\n",
      "Epoch #5: loss=5.908898830413818\n",
      "Epoch #6: loss=5.506619930267334\n",
      "Epoch #7: loss=5.557973384857178\n",
      "Epoch #8: loss=5.691028594970703\n",
      "Epoch #9: loss=5.485001087188721\n",
      "Epoch #10: loss=5.487961292266846\n",
      "Epoch #11: loss=5.246771812438965\n",
      "Epoch #12: loss=5.233506202697754\n",
      "Epoch #13: loss=4.843204975128174\n",
      "Epoch #14: loss=5.565455913543701\n",
      "Epoch #15: loss=4.823317527770996\n",
      "Epoch #16: loss=5.326860427856445\n",
      "Epoch #17: loss=5.539682865142822\n",
      "Epoch #18: loss=5.118223667144775\n",
      "Epoch #19: loss=5.616324424743652\n",
      "Epoch #20: loss=4.871235370635986\n",
      "-------------------------------\n",
      "Hidden layer dims: 67\n",
      "Epoch #1: loss=6.474896430969238\n",
      "Epoch #2: loss=5.5845842361450195\n",
      "Epoch #3: loss=5.8170061111450195\n",
      "Epoch #4: loss=5.245319366455078\n",
      "Epoch #5: loss=5.5034050941467285\n",
      "Epoch #6: loss=5.620195388793945\n",
      "Epoch #7: loss=5.734870910644531\n",
      "Epoch #8: loss=5.373859405517578\n",
      "Epoch #9: loss=4.6114702224731445\n",
      "Epoch #10: loss=5.245662212371826\n",
      "Epoch #11: loss=5.902523994445801\n",
      "Epoch #12: loss=5.07443904876709\n",
      "Epoch #13: loss=5.532074451446533\n",
      "Epoch #14: loss=5.19999885559082\n",
      "Epoch #15: loss=4.709264755249023\n",
      "Epoch #16: loss=5.0980072021484375\n",
      "Epoch #17: loss=4.885079383850098\n",
      "Epoch #18: loss=4.854580879211426\n",
      "Epoch #19: loss=5.061384201049805\n",
      "Epoch #20: loss=5.655630588531494\n",
      "-------------------------------\n",
      "Hidden layer dims: 86\n",
      "Epoch #1: loss=6.260319709777832\n",
      "Epoch #2: loss=5.460339546203613\n",
      "Epoch #3: loss=5.871491432189941\n",
      "Epoch #4: loss=5.609156131744385\n",
      "Epoch #5: loss=5.032119274139404\n",
      "Epoch #6: loss=5.160768032073975\n",
      "Epoch #7: loss=5.513916969299316\n",
      "Epoch #8: loss=5.495217323303223\n",
      "Epoch #9: loss=4.8927130699157715\n",
      "Epoch #10: loss=5.284465312957764\n",
      "Epoch #11: loss=4.826275825500488\n",
      "Epoch #12: loss=5.291945457458496\n",
      "Epoch #13: loss=5.343258857727051\n",
      "Epoch #14: loss=5.178430557250977\n",
      "Epoch #15: loss=5.279642581939697\n",
      "Epoch #16: loss=4.755770206451416\n",
      "Epoch #17: loss=4.8424201011657715\n",
      "Epoch #18: loss=4.644839286804199\n",
      "Epoch #19: loss=4.482050895690918\n",
      "Epoch #20: loss=4.750367164611816\n",
      "-------------------------------\n",
      "Hidden layer dims: 105\n",
      "Epoch #1: loss=5.7615790367126465\n",
      "Epoch #2: loss=5.38334321975708\n",
      "Epoch #3: loss=5.718462944030762\n",
      "Epoch #4: loss=5.269677639007568\n",
      "Epoch #5: loss=4.945723533630371\n",
      "Epoch #6: loss=5.096625804901123\n",
      "Epoch #7: loss=5.165010452270508\n",
      "Epoch #8: loss=5.495786190032959\n",
      "Epoch #9: loss=5.53277587890625\n",
      "Epoch #10: loss=5.228614807128906\n",
      "Epoch #11: loss=4.81077766418457\n",
      "Epoch #12: loss=4.597662925720215\n",
      "Epoch #13: loss=4.51791524887085\n",
      "Epoch #14: loss=4.736883640289307\n",
      "Epoch #15: loss=4.651309013366699\n",
      "Epoch #16: loss=4.789480209350586\n",
      "Epoch #17: loss=4.506833076477051\n",
      "Epoch #18: loss=4.917823791503906\n",
      "Epoch #19: loss=4.553183555603027\n",
      "Epoch #20: loss=4.185981273651123\n",
      "-------------------------------\n",
      "Hidden layer dims: 124\n",
      "Epoch #1: loss=6.927070617675781\n",
      "Epoch #2: loss=6.076132774353027\n",
      "Epoch #3: loss=5.6476545333862305\n",
      "Epoch #4: loss=6.095463275909424\n",
      "Epoch #5: loss=5.086788177490234\n",
      "Epoch #6: loss=5.353409767150879\n",
      "Epoch #7: loss=4.824295997619629\n",
      "Epoch #8: loss=4.5272111892700195\n",
      "Epoch #9: loss=5.483819484710693\n",
      "Epoch #10: loss=4.760483264923096\n",
      "Epoch #11: loss=4.683627605438232\n",
      "Epoch #12: loss=5.677750110626221\n",
      "Epoch #13: loss=4.782460689544678\n",
      "Epoch #14: loss=5.274630069732666\n",
      "Epoch #15: loss=5.090798854827881\n",
      "Epoch #16: loss=5.52671480178833\n",
      "Epoch #17: loss=4.406655311584473\n",
      "Epoch #18: loss=4.130455017089844\n",
      "Epoch #19: loss=4.314180850982666\n",
      "Epoch #20: loss=4.648394584655762\n",
      "-------------------------------\n",
      "Hidden layer dims: 143\n",
      "Epoch #1: loss=5.904360294342041\n",
      "Epoch #2: loss=5.740304946899414\n",
      "Epoch #3: loss=5.252412796020508\n",
      "Epoch #4: loss=4.851339817047119\n",
      "Epoch #5: loss=4.216477394104004\n",
      "Epoch #6: loss=5.554330348968506\n",
      "Epoch #7: loss=4.950307846069336\n",
      "Epoch #8: loss=5.311493873596191\n",
      "Epoch #9: loss=4.728718280792236\n",
      "Epoch #10: loss=5.005348205566406\n",
      "Epoch #11: loss=4.81058406829834\n",
      "Epoch #12: loss=4.813111782073975\n",
      "Epoch #13: loss=4.576986312866211\n",
      "Epoch #14: loss=4.797732830047607\n",
      "Epoch #15: loss=4.818796157836914\n",
      "Epoch #16: loss=4.4156317710876465\n",
      "Epoch #17: loss=4.383938312530518\n",
      "Epoch #18: loss=4.833176136016846\n",
      "Epoch #19: loss=4.681386470794678\n",
      "Epoch #20: loss=4.696467876434326\n",
      "-------------------------------\n",
      "Hidden layer dims: 162\n",
      "Epoch #1: loss=6.742501735687256\n",
      "Epoch #2: loss=5.822037696838379\n",
      "Epoch #3: loss=5.986573696136475\n",
      "Epoch #4: loss=4.790428161621094\n",
      "Epoch #5: loss=5.326669692993164\n",
      "Epoch #6: loss=5.401689529418945\n",
      "Epoch #7: loss=5.841063499450684\n",
      "Epoch #8: loss=3.8444199562072754\n",
      "Epoch #9: loss=5.6023268699646\n",
      "Epoch #10: loss=4.542990684509277\n",
      "Epoch #11: loss=4.483893394470215\n",
      "Epoch #12: loss=4.357314109802246\n",
      "Epoch #13: loss=4.8140668869018555\n",
      "Epoch #14: loss=4.968862533569336\n",
      "Epoch #15: loss=4.998214244842529\n",
      "Epoch #16: loss=4.794132709503174\n",
      "Epoch #17: loss=4.5976691246032715\n",
      "Epoch #18: loss=4.8765764236450195\n",
      "Epoch #19: loss=4.959344387054443\n",
      "Epoch #20: loss=4.519140720367432\n",
      "-------------------------------\n",
      "Hidden layer dims: 181\n",
      "Epoch #1: loss=6.34688663482666\n",
      "Epoch #2: loss=5.882991790771484\n",
      "Epoch #3: loss=5.095351219177246\n",
      "Epoch #4: loss=5.139047622680664\n",
      "Epoch #5: loss=4.618396759033203\n",
      "Epoch #6: loss=4.735363960266113\n",
      "Epoch #7: loss=5.198269844055176\n",
      "Epoch #8: loss=4.280947208404541\n",
      "Epoch #9: loss=5.072567462921143\n",
      "Epoch #10: loss=4.661557197570801\n",
      "Epoch #11: loss=4.7312421798706055\n",
      "Epoch #12: loss=4.401308059692383\n",
      "Epoch #13: loss=4.240652561187744\n",
      "Epoch #14: loss=5.2092132568359375\n",
      "Epoch #15: loss=4.614508628845215\n",
      "Epoch #16: loss=3.7571048736572266\n",
      "Epoch #17: loss=4.8697943687438965\n",
      "Epoch #18: loss=4.425867557525635\n",
      "Epoch #19: loss=4.698422431945801\n",
      "Epoch #20: loss=4.346634864807129\n",
      "-------------------------------\n",
      "Hidden layer dims: 200\n",
      "Epoch #1: loss=5.789219856262207\n",
      "Epoch #2: loss=6.142178058624268\n",
      "Epoch #3: loss=5.3668928146362305\n",
      "Epoch #4: loss=5.018165111541748\n",
      "Epoch #5: loss=5.594439506530762\n",
      "Epoch #6: loss=4.666351318359375\n",
      "Epoch #7: loss=4.803192615509033\n",
      "Epoch #8: loss=4.615514278411865\n",
      "Epoch #9: loss=4.451153755187988\n",
      "Epoch #10: loss=4.314030170440674\n",
      "Epoch #11: loss=4.741982460021973\n",
      "Epoch #12: loss=4.725324630737305\n",
      "Epoch #13: loss=4.77124547958374\n",
      "Epoch #14: loss=4.500084400177002\n",
      "Epoch #15: loss=3.4127399921417236\n",
      "Epoch #16: loss=4.424322128295898\n",
      "Epoch #17: loss=4.476906776428223\n",
      "Epoch #18: loss=4.508137226104736\n",
      "Epoch #19: loss=3.77156400680542\n",
      "Epoch #20: loss=3.988445281982422\n",
      "-------------------------------\n"
     ]
    }
   ],
   "source": [
    "hidden_layer_sizes = range(10, 201, 19)\n",
    "epochs = 20\n",
    "learning_rate = 5e-4\n",
    "all_losses2 = []\n",
    "\n",
    "for hdim in hidden_layer_sizes:\n",
    "  model_tmp = Word2Vec(input_layer_dim=len(vocab2), hidden_layer_dim=hdim)\n",
    "  print(f\"Hidden layer dims: {hdim}\")\n",
    "  losses = train(\n",
    "    model=model_tmp,\n",
    "    loss_fn=nn.CrossEntropyLoss(),\n",
    "    optimizer=torch.optim.AdamW(params=model_tmp.parameters(), lr=learning_rate),\n",
    "    dataloader=training_dataloader2,\n",
    "    epochs=epochs\n",
    "  )\n",
    "  print(\"-------------------------------\")\n",
    "  all_losses2.append(losses[-1])"
   ]
  },
  {
   "cell_type": "code",
   "execution_count": 35,
   "metadata": {},
   "outputs": [
    {
     "data": {
      "text/plain": [
       "[5.495583534240723,\n",
       " 5.8611931800842285,\n",
       " 4.871235370635986,\n",
       " 5.655630588531494,\n",
       " 4.750367164611816,\n",
       " 4.185981273651123,\n",
       " 4.648394584655762,\n",
       " 4.696467876434326,\n",
       " 4.519140720367432,\n",
       " 4.346634864807129,\n",
       " 3.988445281982422]"
      ]
     },
     "execution_count": 35,
     "metadata": {},
     "output_type": "execute_result"
    }
   ],
   "source": [
    "all_losses2"
   ]
  },
  {
   "cell_type": "code",
   "execution_count": 36,
   "metadata": {},
   "outputs": [
    {
     "data": {
      "image/png": "[encoded data removed]",
      "text/plain": [
       "<Figure size 640x480 with 1 Axes>"
      ]
     },
     "metadata": {},
     "output_type": "display_data"
    }
   ],
   "source": [
    "df2 = pd.DataFrame.from_dict({\"dim\": hidden_layer_sizes, \"loss\": all_losses2})\n",
    "sns.lineplot(data=df2, x=\"dim\", y=\"loss\", color=\"rebeccapurple\")\n",
    "plt.xlabel(xlabel='Dimension of hidden layer')\n",
    "plt.ylabel(ylabel='Total loss')\n",
    "plt.title(\"Word2vec model fit by dimension of hidden layer\")\n",
    "plt.tight_layout()\n",
    "plt.show()"
   ]
  },
  {
   "cell_type": "markdown",
   "metadata": {},
   "source": [
    "### Progression with number of words used in training/vocabulary size"
   ]
  },
  {
   "cell_type": "code",
   "execution_count": 37,
   "metadata": {},
   "outputs": [
    {
     "name": "stderr",
     "output_type": "stream",
     "text": [
      "Map: 100%|██████████| 1000/1000 [00:00<00:00, 12082.14 examples/s]\n"
     ]
    },
    {
     "name": "stdout",
     "output_type": "stream",
     "text": [
      "# of training samples: 11470\n",
      "# of training words: 268\n",
      "Epoch #1: loss=5.488856315612793\n",
      "Epoch #2: loss=5.325942516326904\n",
      "Epoch #3: loss=5.867912769317627\n",
      "Epoch #4: loss=5.262505054473877\n",
      "Epoch #5: loss=5.59533166885376\n",
      "Epoch #6: loss=5.432192802429199\n",
      "Epoch #7: loss=5.330134868621826\n",
      "Epoch #8: loss=5.653270244598389\n",
      "Epoch #9: loss=5.373314380645752\n",
      "Epoch #10: loss=5.508280277252197\n",
      "-------------------------------\n",
      "# of training samples: 38228\n",
      "# of training words: 666\n",
      "Epoch #1: loss=6.222690105438232\n",
      "Epoch #2: loss=6.442712306976318\n",
      "Epoch #3: loss=6.186081886291504\n"
     ]
    },
    {
     "name": "stdout",
     "output_type": "stream",
     "text": [
      "Epoch #4: loss=6.4125847816467285\n",
      "Epoch #5: loss=5.469555854797363\n",
      "Epoch #6: loss=6.428639888763428\n",
      "Epoch #7: loss=5.250039577484131\n",
      "Epoch #8: loss=5.945876598358154\n",
      "Epoch #9: loss=6.13749885559082\n",
      "Epoch #10: loss=5.568637371063232\n",
      "-------------------------------\n"
     ]
    },
    {
     "name": "stderr",
     "output_type": "stream",
     "text": [
      "Map: 100%|██████████| 3000/3000 [00:00<00:00, 10884.03 examples/s]\n"
     ]
    },
    {
     "name": "stdout",
     "output_type": "stream",
     "text": [
      "# of training samples: 59336\n",
      "# of training words: 914\n",
      "Epoch #1: loss=6.791168689727783\n",
      "Epoch #2: loss=6.132397651672363\n",
      "Epoch #3: loss=6.451742172241211\n",
      "Epoch #4: loss=6.350168704986572\n",
      "Epoch #5: loss=6.736303806304932\n",
      "Epoch #6: loss=5.94467306137085\n",
      "Epoch #7: loss=6.0528106689453125\n",
      "Epoch #8: loss=6.142726898193359\n",
      "Epoch #9: loss=6.287188529968262\n",
      "Epoch #10: loss=4.282767295837402\n",
      "-------------------------------\n"
     ]
    },
    {
     "name": "stderr",
     "output_type": "stream",
     "text": [
      "Map: 100%|██████████| 4000/4000 [00:00<00:00, 11260.17 examples/s]\n"
     ]
    },
    {
     "name": "stdout",
     "output_type": "stream",
     "text": [
      "# of training samples: 80922\n",
      "# of training words: 1150\n",
      "Epoch #1: loss=7.1503987312316895\n",
      "Epoch #2: loss=6.849947929382324\n",
      "Epoch #3: loss=6.618770122528076\n",
      "Epoch #4: loss=6.044053077697754\n",
      "Epoch #5: loss=6.607739448547363\n",
      "Epoch #6: loss=6.327540397644043\n",
      "Epoch #7: loss=6.132623672485352\n",
      "Epoch #8: loss=6.52421236038208\n",
      "Epoch #9: loss=6.3139238357543945\n",
      "Epoch #10: loss=6.006372451782227\n",
      "-------------------------------\n"
     ]
    },
    {
     "name": "stderr",
     "output_type": "stream",
     "text": [
      "Map: 100%|██████████| 5000/5000 [00:00<00:00, 8501.54 examples/s] \n"
     ]
    },
    {
     "name": "stdout",
     "output_type": "stream",
     "text": [
      "# of training samples: 103920\n",
      "# of training words: 1365\n",
      "Epoch #1: loss=7.473354339599609\n",
      "Epoch #2: loss=6.2611494064331055\n",
      "Epoch #3: loss=7.208996295928955\n",
      "Epoch #4: loss=5.910832405090332\n",
      "Epoch #5: loss=6.719745635986328\n",
      "Epoch #6: loss=6.765536308288574\n",
      "Epoch #7: loss=6.643338203430176\n",
      "Epoch #8: loss=6.597057342529297\n",
      "Epoch #9: loss=6.302463054656982\n",
      "Epoch #10: loss=6.37977409362793\n",
      "-------------------------------\n"
     ]
    },
    {
     "name": "stderr",
     "output_type": "stream",
     "text": [
      "Map: 100%|██████████| 6000/6000 [00:00<00:00, 7273.58 examples/s]\n"
     ]
    },
    {
     "name": "stdout",
     "output_type": "stream",
     "text": [
      "# of training samples: 127020\n",
      "# of training words: 1560\n",
      "Epoch #1: loss=7.310261249542236\n",
      "Epoch #2: loss=6.293386459350586\n",
      "Epoch #3: loss=7.100456237792969\n",
      "Epoch #4: loss=6.130274295806885\n",
      "Epoch #5: loss=6.266075134277344\n",
      "Epoch #6: loss=6.486093044281006\n",
      "Epoch #7: loss=6.525592803955078\n",
      "Epoch #8: loss=6.599704742431641\n",
      "Epoch #9: loss=5.566153049468994\n",
      "Epoch #10: loss=5.87553596496582\n",
      "-------------------------------\n"
     ]
    }
   ],
   "source": [
    "data_sample_sizes = range(1000, 6001, 1000)\n",
    "batch_size3 = 2**5\n",
    "hidden_layer_size3 = 100\n",
    "epochs = 10\n",
    "learning_rate = 1e-4\n",
    "\n",
    "training_words = []\n",
    "all_losses3 = []\n",
    "\n",
    "for ds in data_sample_sizes:\n",
    "  _dataset3 = _dataset['train'].shuffle(seed=33).select(range(ds))\n",
    "  _dataset3 = _dataset3.map(tokenize)\n",
    "\n",
    "  counts3 = Counter([i for s in _dataset3['all_tokens'] for i in s])\n",
    "  counts3 = {k:v for k, v in counts3.items() if v>10}\n",
    "  vocab3 = list(counts3.keys())\n",
    "\n",
    "  id2tok3 = dict(enumerate(vocab3))\n",
    "  tok2id3 = {token: id for id, token in id2tok3.items()}\n",
    "\n",
    "  _dataset3 = _dataset3.map(only_freq_tokens, fn_kwargs={\"_vocab\": vocab3})\n",
    "  _dataset3 = _dataset3.map(prepare_data, fn_kwargs={\"token_to_id\": tok2id3})\n",
    "\n",
    "  training_dataset3 = Word2VecDataset(dataset=_dataset3, vocab_size=len(vocab3))\n",
    "  training_dataloader3 = DataLoader(training_dataset3, shuffle=True, batch_size=batch_size3)\n",
    "\n",
    "  print(f\"# of training samples: {len(training_dataset3.contexts)}\")\n",
    "\n",
    "  model_tmp = Word2Vec(input_layer_dim=len(vocab3), hidden_layer_dim=hidden_layer_size3)\n",
    "  print(f\"# of training words: {len(vocab3)}\")\n",
    "  losses = train(\n",
    "    model=model_tmp,\n",
    "    loss_fn=nn.CrossEntropyLoss(),\n",
    "    optimizer=torch.optim.AdamW(params=model_tmp.parameters(), lr=learning_rate),\n",
    "    dataloader=training_dataloader3,\n",
    "    epochs=epochs\n",
    "  )\n",
    "  print(\"-------------------------------\")\n",
    "  training_words.append(len(vocab3))\n",
    "  all_losses3.append(losses[-1])\n"
   ]
  },
  {
   "cell_type": "code",
   "execution_count": 38,
   "metadata": {},
   "outputs": [
    {
     "data": {
      "text/plain": [
       "[268, 666, 914, 1150, 1365, 1560]"
      ]
     },
     "execution_count": 38,
     "metadata": {},
     "output_type": "execute_result"
    }
   ],
   "source": [
    "training_words"
   ]
  },
  {
   "cell_type": "code",
   "execution_count": 39,
   "metadata": {},
   "outputs": [
    {
     "data": {
      "text/plain": [
       "[5.508280277252197,\n",
       " 5.568637371063232,\n",
       " 4.282767295837402,\n",
       " 6.006372451782227,\n",
       " 6.37977409362793,\n",
       " 5.87553596496582]"
      ]
     },
     "execution_count": 39,
     "metadata": {},
     "output_type": "execute_result"
    }
   ],
   "source": [
    "all_losses3"
   ]
  },
  {
   "cell_type": "code",
   "execution_count": 40,
   "metadata": {},
   "outputs": [
    {
     "data": {
      "image/png": "[encoded data removed]",
      "text/plain": [
       "<Figure size 640x480 with 1 Axes>"
      ]
     },
     "metadata": {},
     "output_type": "display_data"
    }
   ],
   "source": [
    "df3 = pd.DataFrame.from_dict({\"train_words\": training_words, \"loss\": all_losses3})\n",
    "sns.lineplot(data=df3, x=\"train_words\", y=\"loss\", color=\"rebeccapurple\")\n",
    "plt.xlabel(xlabel='Vocabulary size')\n",
    "plt.ylabel(ylabel='Total loss')\n",
    "plt.title(\"Word2vec model fit by vocabulary size/# of training words\")\n",
    "plt.tight_layout()\n",
    "plt.show()"
   ]
  }
 ],
 "metadata": {
  "kernelspec": {
   "display_name": "Python 3",
   "language": "python",
   "name": "python3"
  },
  "language_info": {
   "codemirror_mode": {
    "name": "ipython",
    "version": 3
   },
   "file_extension": ".py",
   "mimetype": "text/x-python",
   "name": "python",
   "nbconvert_exporter": "python",
   "pygments_lexer": "ipython3",
   "version": "3.10.12"
  }
 },
 "nbformat": 4,
 "nbformat_minor": 2
}
